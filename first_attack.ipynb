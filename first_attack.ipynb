{
 "cells": [
  {
   "cell_type": "code",
   "execution_count": 1,
   "metadata": {},
   "outputs": [],
   "source": [
    "import plotly.plotly as py\n",
    "import plotly.graph_objs as go\n",
    "import plotly.figure_factory as FF\n",
    "import plotly\n",
    "plotly.tools.set_credentials_file(username='ninjamouse', api_key='LejqbK7NWhPU7zXoMuhw')\n",
    "\n",
    "import numpy as np\n",
    "import pandas as pd\n",
    "\n",
    "df = pd.read_csv('first_attack.csv')"
   ]
  },
  {
   "cell_type": "code",
   "execution_count": 2,
   "metadata": {
    "scrolled": true
   },
   "outputs": [
    {
     "data": {
      "text/html": [
       "<div>\n",
       "<style scoped>\n",
       "    .dataframe tbody tr th:only-of-type {\n",
       "        vertical-align: middle;\n",
       "    }\n",
       "\n",
       "    .dataframe tbody tr th {\n",
       "        vertical-align: top;\n",
       "    }\n",
       "\n",
       "    .dataframe thead th {\n",
       "        text-align: right;\n",
       "    }\n",
       "</style>\n",
       "<table border=\"1\" class=\"dataframe\">\n",
       "  <thead>\n",
       "    <tr style=\"text-align: right;\">\n",
       "      <th></th>\n",
       "      <th>No.</th>\n",
       "      <th>Time</th>\n",
       "      <th>Source</th>\n",
       "      <th>Destination</th>\n",
       "      <th>Protocol</th>\n",
       "      <th>Length</th>\n",
       "      <th>Info</th>\n",
       "    </tr>\n",
       "  </thead>\n",
       "  <tbody>\n",
       "    <tr>\n",
       "      <th>0</th>\n",
       "      <td>1</td>\n",
       "      <td>2010-06-12 06:50:00,055616</td>\n",
       "      <td>88.208.248.162</td>\n",
       "      <td>192.168.4.120</td>\n",
       "      <td>HTTP</td>\n",
       "      <td>1514</td>\n",
       "      <td>Continuation</td>\n",
       "    </tr>\n",
       "    <tr>\n",
       "      <th>1</th>\n",
       "      <td>2</td>\n",
       "      <td>2010-06-12 06:50:00,059867</td>\n",
       "      <td>88.208.248.162</td>\n",
       "      <td>192.168.4.120</td>\n",
       "      <td>HTTP</td>\n",
       "      <td>1514</td>\n",
       "      <td>Continuation</td>\n",
       "    </tr>\n",
       "    <tr>\n",
       "      <th>2</th>\n",
       "      <td>3</td>\n",
       "      <td>2010-06-12 06:50:00,061151</td>\n",
       "      <td>192.168.4.120</td>\n",
       "      <td>88.208.248.162</td>\n",
       "      <td>TCP</td>\n",
       "      <td>60</td>\n",
       "      <td>2677  &gt;  80 [ACK] Seq=1 Ack=2921 Win=17520 Len=0</td>\n",
       "    </tr>\n",
       "    <tr>\n",
       "      <th>3</th>\n",
       "      <td>4</td>\n",
       "      <td>2010-06-12 06:50:00,062786</td>\n",
       "      <td>208.122.28.2</td>\n",
       "      <td>192.168.4.120</td>\n",
       "      <td>HTTP</td>\n",
       "      <td>1195</td>\n",
       "      <td>HTTP/1.1 200 OK  (JPEG JFIF image)</td>\n",
       "    </tr>\n",
       "    <tr>\n",
       "      <th>4</th>\n",
       "      <td>5</td>\n",
       "      <td>2010-06-12 06:50:00,064234</td>\n",
       "      <td>192.168.4.120</td>\n",
       "      <td>208.122.28.10</td>\n",
       "      <td>HTTP</td>\n",
       "      <td>140</td>\n",
       "      <td>GET /profile_images/159516/rollinsliar_small.j...</td>\n",
       "    </tr>\n",
       "  </tbody>\n",
       "</table>\n",
       "</div>"
      ],
      "text/plain": [
       "   No.                        Time          Source     Destination Protocol  \\\n",
       "0    1  2010-06-12 06:50:00,055616  88.208.248.162   192.168.4.120     HTTP   \n",
       "1    2  2010-06-12 06:50:00,059867  88.208.248.162   192.168.4.120     HTTP   \n",
       "2    3  2010-06-12 06:50:00,061151   192.168.4.120  88.208.248.162      TCP   \n",
       "3    4  2010-06-12 06:50:00,062786    208.122.28.2   192.168.4.120     HTTP   \n",
       "4    5  2010-06-12 06:50:00,064234   192.168.4.120   208.122.28.10     HTTP   \n",
       "\n",
       "   Length                                               Info  \n",
       "0    1514                                       Continuation  \n",
       "1    1514                                       Continuation  \n",
       "2      60   2677  >  80 [ACK] Seq=1 Ack=2921 Win=17520 Len=0  \n",
       "3    1195                 HTTP/1.1 200 OK  (JPEG JFIF image)  \n",
       "4     140  GET /profile_images/159516/rollinsliar_small.j...  "
      ]
     },
     "execution_count": 2,
     "metadata": {},
     "output_type": "execute_result"
    }
   ],
   "source": [
    "df.head()"
   ]
  },
  {
   "cell_type": "code",
   "execution_count": 33,
   "metadata": {},
   "outputs": [],
   "source": [
    "#df.sort_values(['Source', 'Destination'],  ascending=[True, False]  )\n",
    "#df['Info'] = df['Info'].astype('str')\n",
    "#get=df[df['Info'].str.contains('GET')]\n",
    "\n",
    "\n",
    "#Sort the connections based on the pair Source-->Destination\n",
    "#Select all the connections that have Source IP and Destiantion IP with 75.127.97.72\n",
    "df.drop(['Time', 'Protocol', 'Length', 'Info'], axis=1)\\\n",
    "            .groupby([\"Source\", 'Destination']) \\\n",
    "            .count() \\\n",
    "            .sort_values(['No.'], ascending=False)\\\n",
    "            .head()\n",
    "d=df[(df.Destination=='75.127.97.72') | (df.Source=='75.127.97.72')]   "
   ]
  },
  {
   "cell_type": "code",
   "execution_count": 34,
   "metadata": {},
   "outputs": [
    {
     "data": {
      "text/html": [
       "<div>\n",
       "<style scoped>\n",
       "    .dataframe tbody tr th:only-of-type {\n",
       "        vertical-align: middle;\n",
       "    }\n",
       "\n",
       "    .dataframe tbody tr th {\n",
       "        vertical-align: top;\n",
       "    }\n",
       "\n",
       "    .dataframe thead th {\n",
       "        text-align: right;\n",
       "    }\n",
       "</style>\n",
       "<table border=\"1\" class=\"dataframe\">\n",
       "  <thead>\n",
       "    <tr style=\"text-align: right;\">\n",
       "      <th></th>\n",
       "      <th>No.</th>\n",
       "      <th>Time</th>\n",
       "      <th>Source</th>\n",
       "      <th>Destination</th>\n",
       "      <th>Protocol</th>\n",
       "      <th>Length</th>\n",
       "      <th>Info</th>\n",
       "    </tr>\n",
       "  </thead>\n",
       "  <tbody>\n",
       "    <tr>\n",
       "      <th>4</th>\n",
       "      <td>5</td>\n",
       "      <td>2010-06-12 06:50:00,064234</td>\n",
       "      <td>192.168.4.120</td>\n",
       "      <td>208.122.28.10</td>\n",
       "      <td>HTTP</td>\n",
       "      <td>140</td>\n",
       "      <td>GET /profile_images/159516/rollinsliar_small.j...</td>\n",
       "    </tr>\n",
       "    <tr>\n",
       "      <th>6</th>\n",
       "      <td>7</td>\n",
       "      <td>2010-06-12 06:50:00,066804</td>\n",
       "      <td>192.168.4.120</td>\n",
       "      <td>88.208.248.162</td>\n",
       "      <td>HTTP</td>\n",
       "      <td>245</td>\n",
       "      <td>GET /Car-Products/Bike-Racks/Bike-Racks-Thule-...</td>\n",
       "    </tr>\n",
       "    <tr>\n",
       "      <th>10</th>\n",
       "      <td>11</td>\n",
       "      <td>2010-06-12 06:50:00,092368</td>\n",
       "      <td>192.168.2.110</td>\n",
       "      <td>67.220.214.50</td>\n",
       "      <td>HTTP</td>\n",
       "      <td>112</td>\n",
       "      <td>GET /images/rss2.gif HTTP/1.1</td>\n",
       "    </tr>\n",
       "    <tr>\n",
       "      <th>12</th>\n",
       "      <td>13</td>\n",
       "      <td>2010-06-12 06:50:00,121749</td>\n",
       "      <td>192.168.4.120</td>\n",
       "      <td>208.122.28.2</td>\n",
       "      <td>HTTP</td>\n",
       "      <td>149</td>\n",
       "      <td>GET /profile_images/228715/Logo_Baseball_Canad...</td>\n",
       "    </tr>\n",
       "    <tr>\n",
       "      <th>18</th>\n",
       "      <td>19</td>\n",
       "      <td>2010-06-12 06:50:00,180490</td>\n",
       "      <td>192.168.4.120</td>\n",
       "      <td>208.122.28.4</td>\n",
       "      <td>HTTP</td>\n",
       "      <td>143</td>\n",
       "      <td>GET /profile_images/259115/discrimination_smal...</td>\n",
       "    </tr>\n",
       "  </tbody>\n",
       "</table>\n",
       "</div>"
      ],
      "text/plain": [
       "    No.                        Time         Source     Destination Protocol  \\\n",
       "4     5  2010-06-12 06:50:00,064234  192.168.4.120   208.122.28.10     HTTP   \n",
       "6     7  2010-06-12 06:50:00,066804  192.168.4.120  88.208.248.162     HTTP   \n",
       "10   11  2010-06-12 06:50:00,092368  192.168.2.110   67.220.214.50     HTTP   \n",
       "12   13  2010-06-12 06:50:00,121749  192.168.4.120    208.122.28.2     HTTP   \n",
       "18   19  2010-06-12 06:50:00,180490  192.168.4.120    208.122.28.4     HTTP   \n",
       "\n",
       "    Length                                               Info  \n",
       "4      140  GET /profile_images/159516/rollinsliar_small.j...  \n",
       "6      245  GET /Car-Products/Bike-Racks/Bike-Racks-Thule-...  \n",
       "10     112                     GET /images/rss2.gif HTTP/1.1   \n",
       "12     149  GET /profile_images/228715/Logo_Baseball_Canad...  \n",
       "18     143  GET /profile_images/259115/discrimination_smal...  "
      ]
     },
     "execution_count": 34,
     "metadata": {},
     "output_type": "execute_result"
    }
   ],
   "source": [
    "df['Info'] = df['Info'].astype('str')\n",
    "df[df['Info'].str.contains('GET')].head()"
   ]
  },
  {
   "cell_type": "code",
   "execution_count": 35,
   "metadata": {
    "scrolled": true
   },
   "outputs": [
    {
     "data": {
      "text/html": [
       "<iframe id=\"igraph\" scrolling=\"no\" style=\"border:none;\" seamless=\"seamless\" src=\"https://plot.ly/~ninjamouse/106.embed\" height=\"525px\" width=\"100%\"></iframe>"
      ],
      "text/plain": [
       "<plotly.tools.PlotlyDisplay object>"
      ]
     },
     "execution_count": 35,
     "metadata": {},
     "output_type": "execute_result"
    }
   ],
   "source": [
    "trace1=go.Scatter(x=d['Time'],y=d['Length'],mode='markers')\n",
    "l=d.query('(Length>300)&(Length<600)')\n",
    "trace2=go.Scatter(x=l['Time'],y=l['Length'], mode='lines')\n",
    "data=[trace1, trace2]\n",
    "py.iplot(data)"
   ]
  },
  {
   "cell_type": "code",
   "execution_count": 36,
   "metadata": {},
   "outputs": [],
   "source": [
    "from sklearn import linear_model"
   ]
  },
  {
   "cell_type": "code",
   "execution_count": 38,
   "metadata": {
    "scrolled": true
   },
   "outputs": [
    {
     "data": {
      "text/html": [
       "<div>\n",
       "<style scoped>\n",
       "    .dataframe tbody tr th:only-of-type {\n",
       "        vertical-align: middle;\n",
       "    }\n",
       "\n",
       "    .dataframe tbody tr th {\n",
       "        vertical-align: top;\n",
       "    }\n",
       "\n",
       "    .dataframe thead th {\n",
       "        text-align: right;\n",
       "    }\n",
       "</style>\n",
       "<table border=\"1\" class=\"dataframe\">\n",
       "  <thead>\n",
       "    <tr style=\"text-align: right;\">\n",
       "      <th></th>\n",
       "      <th>No.</th>\n",
       "      <th>Source</th>\n",
       "      <th>Destination</th>\n",
       "      <th>Protocol</th>\n",
       "      <th>Length</th>\n",
       "      <th>Info</th>\n",
       "    </tr>\n",
       "  </thead>\n",
       "  <tbody>\n",
       "    <tr>\n",
       "      <th>0</th>\n",
       "      <td>1</td>\n",
       "      <td>88.208.248.162</td>\n",
       "      <td>192.168.4.120</td>\n",
       "      <td>HTTP</td>\n",
       "      <td>1514</td>\n",
       "      <td>Continuation</td>\n",
       "    </tr>\n",
       "    <tr>\n",
       "      <th>1</th>\n",
       "      <td>2</td>\n",
       "      <td>88.208.248.162</td>\n",
       "      <td>192.168.4.120</td>\n",
       "      <td>HTTP</td>\n",
       "      <td>1514</td>\n",
       "      <td>Continuation</td>\n",
       "    </tr>\n",
       "    <tr>\n",
       "      <th>2</th>\n",
       "      <td>3</td>\n",
       "      <td>192.168.4.120</td>\n",
       "      <td>88.208.248.162</td>\n",
       "      <td>TCP</td>\n",
       "      <td>60</td>\n",
       "      <td>2677  &gt;  80 [ACK] Seq=1 Ack=2921 Win=17520 Len=0</td>\n",
       "    </tr>\n",
       "    <tr>\n",
       "      <th>3</th>\n",
       "      <td>4</td>\n",
       "      <td>208.122.28.2</td>\n",
       "      <td>192.168.4.120</td>\n",
       "      <td>HTTP</td>\n",
       "      <td>1195</td>\n",
       "      <td>HTTP/1.1 200 OK  (JPEG JFIF image)</td>\n",
       "    </tr>\n",
       "    <tr>\n",
       "      <th>4</th>\n",
       "      <td>5</td>\n",
       "      <td>192.168.4.120</td>\n",
       "      <td>208.122.28.10</td>\n",
       "      <td>HTTP</td>\n",
       "      <td>140</td>\n",
       "      <td>GET /profile_images/159516/rollinsliar_small.j...</td>\n",
       "    </tr>\n",
       "  </tbody>\n",
       "</table>\n",
       "</div>"
      ],
      "text/plain": [
       "   No.          Source     Destination Protocol  Length  \\\n",
       "0    1  88.208.248.162   192.168.4.120     HTTP    1514   \n",
       "1    2  88.208.248.162   192.168.4.120     HTTP    1514   \n",
       "2    3   192.168.4.120  88.208.248.162      TCP      60   \n",
       "3    4    208.122.28.2   192.168.4.120     HTTP    1195   \n",
       "4    5   192.168.4.120   208.122.28.10     HTTP     140   \n",
       "\n",
       "                                                Info  \n",
       "0                                       Continuation  \n",
       "1                                       Continuation  \n",
       "2   2677  >  80 [ACK] Seq=1 Ack=2921 Win=17520 Len=0  \n",
       "3                 HTTP/1.1 200 OK  (JPEG JFIF image)  \n",
       "4  GET /profile_images/159516/rollinsliar_small.j...  "
      ]
     },
     "execution_count": 38,
     "metadata": {},
     "output_type": "execute_result"
    }
   ],
   "source": [
    "X = df\n",
    "\n",
    "# Treat the problem as a pure classification problem.\n",
    "\n",
    "X['Protocol'] = X['Protocol'].astype('category')\n",
    "# Could use float, but it doesn't make much sense\n",
    "#X['Source'] = X['Source'].apply(lambda x: float(x.replace('.','')))\n",
    "\n",
    "# Convert IPs to classes\n",
    "X['Destination'] = X['Destination'].astype('category')\n",
    "X['Source'] = X['Source'].astype('category')\n",
    "\n",
    "# Convert info to classes as well\n",
    "X['Info'] = X['Info'].astype('category')  # ToDo split info in relevant columns\n",
    "\n",
    "# Drop the time series for now, just to play with a classifier\n",
    "X = X.drop(['Time'], axis=1)\n",
    "X.head()"
   ]
  },
  {
   "cell_type": "code",
   "execution_count": 56,
   "metadata": {},
   "outputs": [],
   "source": [
    "# Set some entries as 1 'attack' and 0 no attack\n",
    "# The ones you defined in d above, are entries where an attack was plausible. Everything else is clean\n",
    "Y = [0 if i not in l.index.values else 1 for i in df.index.values]"
   ]
  },
  {
   "cell_type": "code",
   "execution_count": 57,
   "metadata": {},
   "outputs": [],
   "source": [
    "#1. Aici ce facem? Pentru fiecare valoare este asignata nu cod?\n",
    "catColumns = X.select_dtypes(['category']).columns\n",
    "X[catColumns] = X[catColumns].apply(lambda x: x.cat.codes)"
   ]
  },
  {
   "cell_type": "code",
   "execution_count": 58,
   "metadata": {},
   "outputs": [
    {
     "data": {
      "text/plain": [
       "SGDClassifier(alpha=0.0001, average=False, class_weight=None,\n",
       "       early_stopping=False, epsilon=0.1, eta0=0.0, fit_intercept=True,\n",
       "       l1_ratio=0.15, learning_rate='optimal', loss='hinge', max_iter=1000,\n",
       "       n_iter=None, n_iter_no_change=5, n_jobs=None, penalty='l2',\n",
       "       power_t=0.5, random_state=None, shuffle=True, tol=0.001,\n",
       "       validation_fraction=0.1, verbose=0, warm_start=False)"
      ]
     },
     "execution_count": 58,
     "metadata": {},
     "output_type": "execute_result"
    }
   ],
   "source": [
    "#2. Banuiesc ca aici este aplicat algoritmul de linear regression? Ar trebui sa il inteleg sau doar il aplic si gata?\n",
    "clf = linear_model.SGDClassifier(max_iter=1000, tol=1e-3)\n",
    "clf.fit(X, Y)"
   ]
  },
  {
   "cell_type": "code",
   "execution_count": null,
   "metadata": {},
   "outputs": [],
   "source": [
    "# ## TODO\n",
    "\n",
    "# df = pd.read_csv('second_attack.csv')\n",
    "\n",
    "# X_test = df\n",
    "\n",
    "# ## apply transformation methods as above\n",
    "\n",
    "# pred = clf.predict(X_test)"
   ]
  },
  {
   "cell_type": "code",
   "execution_count": null,
   "metadata": {},
   "outputs": [],
   "source": [
    "## TODO\n",
    "## Compute 'd' the same way you computed it in the first case\n",
    "## Plot d + pred\n",
    "## Compare overalp between d and pred"
   ]
  }
 ],
 "metadata": {
  "kernelspec": {
   "display_name": "Python 3",
   "language": "python",
   "name": "python3"
  },
  "language_info": {
   "codemirror_mode": {
    "name": "ipython",
    "version": 3
   },
   "file_extension": ".py",
   "mimetype": "text/x-python",
   "name": "python",
   "nbconvert_exporter": "python",
   "pygments_lexer": "ipython3",
   "version": "3.7.1"
  }
 },
 "nbformat": 4,
 "nbformat_minor": 2
}
