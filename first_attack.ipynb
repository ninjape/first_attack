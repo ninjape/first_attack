{
 "cells": [
  {
   "cell_type": "code",
   "execution_count": 1,
   "metadata": {},
   "outputs": [],
   "source": [
    "import plotly.plotly as py\n",
    "import plotly.graph_objs as go\n",
    "import plotly.figure_factory as FF\n",
    "import plotly\n",
    "plotly.tools.set_credentials_file(username='ninjamouse', api_key='LejqbK7NWhPU7zXoMuhw')\n",
    "\n",
    "import numpy as np\n",
    "import pandas as pd\n",
    "\n",
    "df = pd.read_csv('first_attack.csv')"
   ]
  },
  {
   "cell_type": "code",
   "execution_count": 2,
   "metadata": {
    "scrolled": true
   },
   "outputs": [
    {
     "data": {
      "text/html": [
       "<div>\n",
       "<style scoped>\n",
       "    .dataframe tbody tr th:only-of-type {\n",
       "        vertical-align: middle;\n",
       "    }\n",
       "\n",
       "    .dataframe tbody tr th {\n",
       "        vertical-align: top;\n",
       "    }\n",
       "\n",
       "    .dataframe thead th {\n",
       "        text-align: right;\n",
       "    }\n",
       "</style>\n",
       "<table border=\"1\" class=\"dataframe\">\n",
       "  <thead>\n",
       "    <tr style=\"text-align: right;\">\n",
       "      <th></th>\n",
       "      <th>No.</th>\n",
       "      <th>Time</th>\n",
       "      <th>Source</th>\n",
       "      <th>Destination</th>\n",
       "      <th>Protocol</th>\n",
       "      <th>Length</th>\n",
       "      <th>Info</th>\n",
       "    </tr>\n",
       "  </thead>\n",
       "  <tbody>\n",
       "    <tr>\n",
       "      <th>0</th>\n",
       "      <td>1</td>\n",
       "      <td>2010-06-12 06:50:00,055616</td>\n",
       "      <td>88.208.248.162</td>\n",
       "      <td>192.168.4.120</td>\n",
       "      <td>HTTP</td>\n",
       "      <td>1514</td>\n",
       "      <td>Continuation</td>\n",
       "    </tr>\n",
       "    <tr>\n",
       "      <th>1</th>\n",
       "      <td>2</td>\n",
       "      <td>2010-06-12 06:50:00,059867</td>\n",
       "      <td>88.208.248.162</td>\n",
       "      <td>192.168.4.120</td>\n",
       "      <td>HTTP</td>\n",
       "      <td>1514</td>\n",
       "      <td>Continuation</td>\n",
       "    </tr>\n",
       "    <tr>\n",
       "      <th>2</th>\n",
       "      <td>3</td>\n",
       "      <td>2010-06-12 06:50:00,061151</td>\n",
       "      <td>192.168.4.120</td>\n",
       "      <td>88.208.248.162</td>\n",
       "      <td>TCP</td>\n",
       "      <td>60</td>\n",
       "      <td>2677  &gt;  80 [ACK] Seq=1 Ack=2921 Win=17520 Len=0</td>\n",
       "    </tr>\n",
       "    <tr>\n",
       "      <th>3</th>\n",
       "      <td>4</td>\n",
       "      <td>2010-06-12 06:50:00,062786</td>\n",
       "      <td>208.122.28.2</td>\n",
       "      <td>192.168.4.120</td>\n",
       "      <td>HTTP</td>\n",
       "      <td>1195</td>\n",
       "      <td>HTTP/1.1 200 OK  (JPEG JFIF image)</td>\n",
       "    </tr>\n",
       "    <tr>\n",
       "      <th>4</th>\n",
       "      <td>5</td>\n",
       "      <td>2010-06-12 06:50:00,064234</td>\n",
       "      <td>192.168.4.120</td>\n",
       "      <td>208.122.28.10</td>\n",
       "      <td>HTTP</td>\n",
       "      <td>140</td>\n",
       "      <td>GET /profile_images/159516/rollinsliar_small.j...</td>\n",
       "    </tr>\n",
       "  </tbody>\n",
       "</table>\n",
       "</div>"
      ],
      "text/plain": [
       "   No.                        Time          Source     Destination Protocol  \\\n",
       "0    1  2010-06-12 06:50:00,055616  88.208.248.162   192.168.4.120     HTTP   \n",
       "1    2  2010-06-12 06:50:00,059867  88.208.248.162   192.168.4.120     HTTP   \n",
       "2    3  2010-06-12 06:50:00,061151   192.168.4.120  88.208.248.162      TCP   \n",
       "3    4  2010-06-12 06:50:00,062786    208.122.28.2   192.168.4.120     HTTP   \n",
       "4    5  2010-06-12 06:50:00,064234   192.168.4.120   208.122.28.10     HTTP   \n",
       "\n",
       "   Length                                               Info  \n",
       "0    1514                                       Continuation  \n",
       "1    1514                                       Continuation  \n",
       "2      60   2677  >  80 [ACK] Seq=1 Ack=2921 Win=17520 Len=0  \n",
       "3    1195                 HTTP/1.1 200 OK  (JPEG JFIF image)  \n",
       "4     140  GET /profile_images/159516/rollinsliar_small.j...  "
      ]
     },
     "execution_count": 2,
     "metadata": {},
     "output_type": "execute_result"
    }
   ],
   "source": [
    "df.head()"
   ]
  },
  {
   "cell_type": "code",
   "execution_count": 3,
   "metadata": {},
   "outputs": [],
   "source": [
    "#df.sort_values(['Source', 'Destination'],  ascending=[True, False]  )\n",
    "#df['Info'] = df['Info'].astype('str')\n",
    "#get=df[df['Info'].str.contains('GET')]\n",
    "\n",
    "\n",
    "#Sort the connections based on the pair Source-->Destination\n",
    "#Select all the connections that have Source IP and Destination IP with 75.127.97.72\n",
    "df.drop(['Time', 'Protocol', 'Length', 'Info'], axis=1)\\\n",
    "            .groupby([\"Source\", 'Destination']) \\\n",
    "            .count() \\\n",
    "            .sort_values(['No.'], ascending=False)\\\n",
    "            .head()\n",
    "d=df[(df.Destination=='75.127.97.72') | (df.Source=='75.127.97.72')]   "
   ]
  },
  {
   "cell_type": "code",
   "execution_count": 4,
   "metadata": {},
   "outputs": [
    {
     "data": {
      "text/html": [
       "<div>\n",
       "<style scoped>\n",
       "    .dataframe tbody tr th:only-of-type {\n",
       "        vertical-align: middle;\n",
       "    }\n",
       "\n",
       "    .dataframe tbody tr th {\n",
       "        vertical-align: top;\n",
       "    }\n",
       "\n",
       "    .dataframe thead th {\n",
       "        text-align: right;\n",
       "    }\n",
       "</style>\n",
       "<table border=\"1\" class=\"dataframe\">\n",
       "  <thead>\n",
       "    <tr style=\"text-align: right;\">\n",
       "      <th></th>\n",
       "      <th>No.</th>\n",
       "      <th>Time</th>\n",
       "      <th>Source</th>\n",
       "      <th>Destination</th>\n",
       "      <th>Protocol</th>\n",
       "      <th>Length</th>\n",
       "      <th>Info</th>\n",
       "    </tr>\n",
       "  </thead>\n",
       "  <tbody>\n",
       "    <tr>\n",
       "      <th>31176</th>\n",
       "      <td>31177</td>\n",
       "      <td>2010-06-12 06:54:06,348044</td>\n",
       "      <td>192.168.56.1</td>\n",
       "      <td>75.127.97.72</td>\n",
       "      <td>HTTP</td>\n",
       "      <td>710</td>\n",
       "      <td>GET /drupal7/ HTTP/1.1</td>\n",
       "    </tr>\n",
       "    <tr>\n",
       "      <th>31192</th>\n",
       "      <td>31193</td>\n",
       "      <td>2010-06-12 06:54:06,585868</td>\n",
       "      <td>192.168.56.1</td>\n",
       "      <td>75.127.97.72</td>\n",
       "      <td>HTTP</td>\n",
       "      <td>749</td>\n",
       "      <td>GET /drupal7/sites/default/files/styles/medium...</td>\n",
       "    </tr>\n",
       "    <tr>\n",
       "      <th>31203</th>\n",
       "      <td>31204</td>\n",
       "      <td>2010-06-12 06:54:06,586953</td>\n",
       "      <td>192.168.56.1</td>\n",
       "      <td>75.127.97.72</td>\n",
       "      <td>HTTP</td>\n",
       "      <td>734</td>\n",
       "      <td>GET /drupal7/sites/default/files/styles/medium...</td>\n",
       "    </tr>\n",
       "    <tr>\n",
       "      <th>31206</th>\n",
       "      <td>31207</td>\n",
       "      <td>2010-06-12 06:54:06,587263</td>\n",
       "      <td>192.168.56.1</td>\n",
       "      <td>75.127.97.72</td>\n",
       "      <td>HTTP</td>\n",
       "      <td>733</td>\n",
       "      <td>GET /drupal7/sites/default/files/styles/medium...</td>\n",
       "    </tr>\n",
       "    <tr>\n",
       "      <th>31208</th>\n",
       "      <td>31209</td>\n",
       "      <td>2010-06-12 06:54:06,587412</td>\n",
       "      <td>192.168.56.1</td>\n",
       "      <td>75.127.97.72</td>\n",
       "      <td>HTTP</td>\n",
       "      <td>684</td>\n",
       "      <td>GET /drupal7/misc/feed.png HTTP/1.1</td>\n",
       "    </tr>\n",
       "  </tbody>\n",
       "</table>\n",
       "</div>"
      ],
      "text/plain": [
       "         No.                        Time        Source   Destination Protocol  \\\n",
       "31176  31177  2010-06-12 06:54:06,348044  192.168.56.1  75.127.97.72     HTTP   \n",
       "31192  31193  2010-06-12 06:54:06,585868  192.168.56.1  75.127.97.72     HTTP   \n",
       "31203  31204  2010-06-12 06:54:06,586953  192.168.56.1  75.127.97.72     HTTP   \n",
       "31206  31207  2010-06-12 06:54:06,587263  192.168.56.1  75.127.97.72     HTTP   \n",
       "31208  31209  2010-06-12 06:54:06,587412  192.168.56.1  75.127.97.72     HTTP   \n",
       "\n",
       "       Length                                               Info  \n",
       "31176     710                            GET /drupal7/ HTTP/1.1   \n",
       "31192     749  GET /drupal7/sites/default/files/styles/medium...  \n",
       "31203     734  GET /drupal7/sites/default/files/styles/medium...  \n",
       "31206     733  GET /drupal7/sites/default/files/styles/medium...  \n",
       "31208     684               GET /drupal7/misc/feed.png HTTP/1.1   "
      ]
     },
     "execution_count": 4,
     "metadata": {},
     "output_type": "execute_result"
    }
   ],
   "source": [
    "d['Info'] = d['Info'].astype('str')\n",
    "d[d['Info'].str.contains('GET')].head()"
   ]
  },
  {
   "cell_type": "code",
   "execution_count": 5,
   "metadata": {
    "scrolled": true
   },
   "outputs": [
    {
     "name": "stderr",
     "output_type": "stream",
     "text": [
      "/home/deepl/anaconda3/lib/python3.7/site-packages/IPython/core/display.py:689: UserWarning:\n",
      "\n",
      "Consider using IPython.display.IFrame instead\n",
      "\n"
     ]
    },
    {
     "data": {
      "text/html": [
       "<iframe id=\"igraph\" scrolling=\"no\" style=\"border:none;\" seamless=\"seamless\" src=\"https://plot.ly/~ninjamouse/116.embed\" height=\"525px\" width=\"100%\"></iframe>"
      ],
      "text/plain": [
       "<plotly.tools.PlotlyDisplay object>"
      ]
     },
     "execution_count": 5,
     "metadata": {},
     "output_type": "execute_result"
    }
   ],
   "source": [
    "trace1=go.Scatter(x=d['Time'],y=d['Length'],mode='markers')\n",
    "l=d.query('(Length>300)&(Length<600)')\n",
    "trace2=go.Scatter(x=l['Time'],y=l['Length'], mode='lines')\n",
    "data=[trace1, trace2]\n",
    "py.iplot(data)"
   ]
  },
  {
   "cell_type": "code",
   "execution_count": 6,
   "metadata": {},
   "outputs": [],
   "source": [
    "from sklearn import linear_model"
   ]
  },
  {
   "cell_type": "code",
   "execution_count": 7,
   "metadata": {
    "scrolled": true
   },
   "outputs": [
    {
     "data": {
      "text/html": [
       "<div>\n",
       "<style scoped>\n",
       "    .dataframe tbody tr th:only-of-type {\n",
       "        vertical-align: middle;\n",
       "    }\n",
       "\n",
       "    .dataframe tbody tr th {\n",
       "        vertical-align: top;\n",
       "    }\n",
       "\n",
       "    .dataframe thead th {\n",
       "        text-align: right;\n",
       "    }\n",
       "</style>\n",
       "<table border=\"1\" class=\"dataframe\">\n",
       "  <thead>\n",
       "    <tr style=\"text-align: right;\">\n",
       "      <th></th>\n",
       "      <th>No.</th>\n",
       "      <th>Source</th>\n",
       "      <th>Destination</th>\n",
       "      <th>Protocol</th>\n",
       "      <th>Length</th>\n",
       "      <th>Info</th>\n",
       "    </tr>\n",
       "  </thead>\n",
       "  <tbody>\n",
       "    <tr>\n",
       "      <th>0</th>\n",
       "      <td>1</td>\n",
       "      <td>88.208.248.162</td>\n",
       "      <td>192.168.4.120</td>\n",
       "      <td>HTTP</td>\n",
       "      <td>1514</td>\n",
       "      <td>Continuation</td>\n",
       "    </tr>\n",
       "    <tr>\n",
       "      <th>1</th>\n",
       "      <td>2</td>\n",
       "      <td>88.208.248.162</td>\n",
       "      <td>192.168.4.120</td>\n",
       "      <td>HTTP</td>\n",
       "      <td>1514</td>\n",
       "      <td>Continuation</td>\n",
       "    </tr>\n",
       "    <tr>\n",
       "      <th>2</th>\n",
       "      <td>3</td>\n",
       "      <td>192.168.4.120</td>\n",
       "      <td>88.208.248.162</td>\n",
       "      <td>TCP</td>\n",
       "      <td>60</td>\n",
       "      <td>2677  &gt;  80 [ACK] Seq=1 Ack=2921 Win=17520 Len=0</td>\n",
       "    </tr>\n",
       "    <tr>\n",
       "      <th>3</th>\n",
       "      <td>4</td>\n",
       "      <td>208.122.28.2</td>\n",
       "      <td>192.168.4.120</td>\n",
       "      <td>HTTP</td>\n",
       "      <td>1195</td>\n",
       "      <td>HTTP/1.1 200 OK  (JPEG JFIF image)</td>\n",
       "    </tr>\n",
       "    <tr>\n",
       "      <th>4</th>\n",
       "      <td>5</td>\n",
       "      <td>192.168.4.120</td>\n",
       "      <td>208.122.28.10</td>\n",
       "      <td>HTTP</td>\n",
       "      <td>140</td>\n",
       "      <td>GET /profile_images/159516/rollinsliar_small.j...</td>\n",
       "    </tr>\n",
       "  </tbody>\n",
       "</table>\n",
       "</div>"
      ],
      "text/plain": [
       "   No.          Source     Destination Protocol  Length  \\\n",
       "0    1  88.208.248.162   192.168.4.120     HTTP    1514   \n",
       "1    2  88.208.248.162   192.168.4.120     HTTP    1514   \n",
       "2    3   192.168.4.120  88.208.248.162      TCP      60   \n",
       "3    4    208.122.28.2   192.168.4.120     HTTP    1195   \n",
       "4    5   192.168.4.120   208.122.28.10     HTTP     140   \n",
       "\n",
       "                                                Info  \n",
       "0                                       Continuation  \n",
       "1                                       Continuation  \n",
       "2   2677  >  80 [ACK] Seq=1 Ack=2921 Win=17520 Len=0  \n",
       "3                 HTTP/1.1 200 OK  (JPEG JFIF image)  \n",
       "4  GET /profile_images/159516/rollinsliar_small.j...  "
      ]
     },
     "execution_count": 7,
     "metadata": {},
     "output_type": "execute_result"
    }
   ],
   "source": [
    "X = df\n",
    "\n",
    "# Treat the problem as a pure classification problem.\n",
    "\n",
    "X['Protocol'] = X['Protocol'].astype('category')\n",
    "# Could use float, but it doesn't make much sense\n",
    "#X['Source'] = X['Source'].apply(lambda x: float(x.replace('.','')))\n",
    "\n",
    "# Convert IPs to classes\n",
    "X['Destination'] = X['Destination'].astype('category')\n",
    "X['Source'] = X['Source'].astype('category')\n",
    "\n",
    "# Convert info to classes as well\n",
    "X['Info'] = X['Info'].astype('category')  # ToDo split info in relevant columns\n",
    "\n",
    "# Drop the time series for now, just to play with a classifier\n",
    "X = X.drop(['Time'], axis=1)\n",
    "X.head()"
   ]
  },
  {
   "cell_type": "code",
   "execution_count": 8,
   "metadata": {},
   "outputs": [],
   "source": [
    "# Set some entries as 1 'attack' and 0 no attack\n",
    "# The ones you defined in d above, are entries where an attack was plausible. Everything else is clean\n",
    "Y = [0 if i not in l.index.values else 1 for i in df.index.values]"
   ]
  },
  {
   "cell_type": "code",
   "execution_count": 9,
   "metadata": {},
   "outputs": [],
   "source": [
    "#1. Aici ce facem? Pentru fiecare valoare este asignata nu cod?\n",
    "## Transformam toate coloanele care nu sunt numerice, in valori numerice.\n",
    "## De exemplu, pentru coloana Protocol ai valori 'HTTP' si 'TCP'. Matematic e greu sa le analizezi\n",
    "## daca nu sunt in format numeric. Asa ca functia lambda de mai jos iti transforma\n",
    "## toate valorile 'HTTP' in 0 si 'TCP' in 1 (de exemplu). Daca ai mai multe coloane, ai mai multe valori (0,1,2,3..)\n",
    "catColumns = X.select_dtypes(['category']).columns\n",
    "X[catColumns] = X[catColumns].apply(lambda x: x.cat.codes)"
   ]
  },
  {
   "cell_type": "code",
   "execution_count": 10,
   "metadata": {},
   "outputs": [
    {
     "data": {
      "text/plain": [
       "Index(['No.', 'Source', 'Destination', 'Protocol', 'Length', 'Info'], dtype='object')"
      ]
     },
     "execution_count": 10,
     "metadata": {},
     "output_type": "execute_result"
    }
   ],
   "source": [
    "X.columns"
   ]
  },
  {
   "cell_type": "code",
   "execution_count": 11,
   "metadata": {},
   "outputs": [
    {
     "data": {
      "text/plain": [
       "SGDClassifier(alpha=0.0001, average=False, class_weight=None,\n",
       "       early_stopping=False, epsilon=0.1, eta0=0.0, fit_intercept=True,\n",
       "       l1_ratio=0.15, learning_rate='optimal', loss='hinge', max_iter=1000,\n",
       "       n_iter=None, n_iter_no_change=5, n_jobs=None, penalty='l2',\n",
       "       power_t=0.5, random_state=None, shuffle=True, tol=0.001,\n",
       "       validation_fraction=0.1, verbose=0, warm_start=False)"
      ]
     },
     "execution_count": 11,
     "metadata": {},
     "output_type": "execute_result"
    }
   ],
   "source": [
    "#2. Banuiesc ca aici este aplicat algoritmul de linear regression? Ar trebui sa il inteleg sau doar il aplic si gata?\n",
    "## Aici faci doar partea de model fitting a algoritmului. Pe baza valorilor din X, iti antrenezi modelul ca sa prezica\n",
    "## valorile din Y. Aici calculezi coeficientii cei mai potriviti din formula liniara care iti satisfac cel mai bine\n",
    "## X = Y\n",
    "## sau mai in detaliu, ai avea \n",
    "## coef_Source * X['Source'] + coef_Destination * X['Destination'] + .. + coef_Info * X['Info'] = Y\n",
    "## ,pentru fiecare linie din X si linia corespunzatoare din Y\n",
    "\n",
    "clf = linear_model.SGDClassifier(max_iter=1000, tol=1e-3)\n",
    "clf.fit(X, Y)"
   ]
  },
  {
   "cell_type": "code",
   "execution_count": 13,
   "metadata": {},
   "outputs": [
    {
     "data": {
      "text/html": [
       "<div>\n",
       "<style scoped>\n",
       "    .dataframe tbody tr th:only-of-type {\n",
       "        vertical-align: middle;\n",
       "    }\n",
       "\n",
       "    .dataframe tbody tr th {\n",
       "        vertical-align: top;\n",
       "    }\n",
       "\n",
       "    .dataframe thead th {\n",
       "        text-align: right;\n",
       "    }\n",
       "</style>\n",
       "<table border=\"1\" class=\"dataframe\">\n",
       "  <thead>\n",
       "    <tr style=\"text-align: right;\">\n",
       "      <th></th>\n",
       "      <th>No.</th>\n",
       "      <th>Time</th>\n",
       "      <th>Source</th>\n",
       "      <th>Destination</th>\n",
       "      <th>Protocol</th>\n",
       "      <th>Length</th>\n",
       "      <th>Info</th>\n",
       "    </tr>\n",
       "  </thead>\n",
       "  <tbody>\n",
       "    <tr>\n",
       "      <th>0</th>\n",
       "      <td>1</td>\n",
       "      <td>2010-06-12 14:12:00,237404</td>\n",
       "      <td>67.212.184.66</td>\n",
       "      <td>192.168.1.101</td>\n",
       "      <td>TCP</td>\n",
       "      <td>60</td>\n",
       "      <td>80  &gt;  2301 [ACK] Seq=1 Ack=1 Win=5840 Len=0</td>\n",
       "    </tr>\n",
       "    <tr>\n",
       "      <th>1</th>\n",
       "      <td>2</td>\n",
       "      <td>2010-06-12 14:12:00,237612</td>\n",
       "      <td>192.168.1.101</td>\n",
       "      <td>67.212.184.66</td>\n",
       "      <td>TCP</td>\n",
       "      <td>60</td>\n",
       "      <td>[TCP ZeroWindow] [TCP ACKed unseen segment] 23...</td>\n",
       "    </tr>\n",
       "    <tr>\n",
       "      <th>2</th>\n",
       "      <td>3</td>\n",
       "      <td>2010-06-12 14:12:01,796591</td>\n",
       "      <td>192.168.2.113</td>\n",
       "      <td>69.48.248.51</td>\n",
       "      <td>HTTP</td>\n",
       "      <td>113</td>\n",
       "      <td>GET /r/publishers HTTP/1.1</td>\n",
       "    </tr>\n",
       "    <tr>\n",
       "      <th>3</th>\n",
       "      <td>4</td>\n",
       "      <td>2010-06-12 14:12:01,905063</td>\n",
       "      <td>69.48.248.51</td>\n",
       "      <td>192.168.2.113</td>\n",
       "      <td>TCP</td>\n",
       "      <td>1434</td>\n",
       "      <td>80  &gt;  2401 [ACK] Seq=1 Ack=60 Win=4356 Len=13...</td>\n",
       "    </tr>\n",
       "    <tr>\n",
       "      <th>4</th>\n",
       "      <td>5</td>\n",
       "      <td>2010-06-12 14:12:01,905081</td>\n",
       "      <td>69.48.248.51</td>\n",
       "      <td>192.168.2.113</td>\n",
       "      <td>TCP</td>\n",
       "      <td>203</td>\n",
       "      <td>80  &gt;  2401 [PSH, ACK] Seq=1381 Ack=60 Win=435...</td>\n",
       "    </tr>\n",
       "  </tbody>\n",
       "</table>\n",
       "</div>"
      ],
      "text/plain": [
       "   No.                        Time         Source    Destination Protocol  \\\n",
       "0    1  2010-06-12 14:12:00,237404  67.212.184.66  192.168.1.101      TCP   \n",
       "1    2  2010-06-12 14:12:00,237612  192.168.1.101  67.212.184.66      TCP   \n",
       "2    3  2010-06-12 14:12:01,796591  192.168.2.113   69.48.248.51     HTTP   \n",
       "3    4  2010-06-12 14:12:01,905063   69.48.248.51  192.168.2.113      TCP   \n",
       "4    5  2010-06-12 14:12:01,905081   69.48.248.51  192.168.2.113      TCP   \n",
       "\n",
       "   Length                                               Info  \n",
       "0      60       80  >  2301 [ACK] Seq=1 Ack=1 Win=5840 Len=0  \n",
       "1      60  [TCP ZeroWindow] [TCP ACKed unseen segment] 23...  \n",
       "2     113                        GET /r/publishers HTTP/1.1   \n",
       "3    1434  80  >  2401 [ACK] Seq=1 Ack=60 Win=4356 Len=13...  \n",
       "4     203  80  >  2401 [PSH, ACK] Seq=1381 Ack=60 Win=435...  "
      ]
     },
     "execution_count": 13,
     "metadata": {},
     "output_type": "execute_result"
    }
   ],
   "source": [
    "# ## TODO\n",
    "\n",
    "# df = pd.read_csv('second_attack.csv')\n",
    "\n",
    "# X_test = df\n",
    "\n",
    "# ## apply transformation methods as above\n",
    "\n",
    "# pred = clf.predict(X_test)\n",
    "df2 = pd.read_csv('12_attack.csv')\n",
    "X_test = df2\n",
    "X_test.head()"
   ]
  },
  {
   "cell_type": "code",
   "execution_count": 14,
   "metadata": {},
   "outputs": [],
   "source": [
    "df2.drop(['Time', 'Protocol', 'Length', 'Info'], axis=1)\\\n",
    "            .groupby([\"Source\", 'Destination']) \\\n",
    "            .count() \\\n",
    "            .sort_values(['No.'], ascending=False)\\\n",
    "            .head()\n",
    "d2=df2[(df2.Destination=='69.192.24.88') | (df2.Source=='69.192.24.88')] "
   ]
  },
  {
   "cell_type": "code",
   "execution_count": 22,
   "metadata": {},
   "outputs": [
    {
     "ename": "ValueError",
     "evalue": "could not convert string to float: '67.212.184.66'",
     "output_type": "error",
     "traceback": [
      "\u001b[0;31m---------------------------------------------------------------------------\u001b[0m",
      "\u001b[0;31mValueError\u001b[0m                                Traceback (most recent call last)",
      "\u001b[0;32m<ipython-input-22-1238bd259b61>\u001b[0m in \u001b[0;36m<module>\u001b[0;34m\u001b[0m\n\u001b[1;32m      6\u001b[0m \u001b[0mX_test\u001b[0m \u001b[0;34m=\u001b[0m \u001b[0mX_test\u001b[0m\u001b[0;34m.\u001b[0m\u001b[0mdrop\u001b[0m\u001b[0;34m(\u001b[0m\u001b[0;34m[\u001b[0m\u001b[0;34m'Time'\u001b[0m\u001b[0;34m]\u001b[0m\u001b[0;34m,\u001b[0m \u001b[0maxis\u001b[0m\u001b[0;34m=\u001b[0m\u001b[0;36m1\u001b[0m\u001b[0;34m)\u001b[0m\u001b[0;34m\u001b[0m\u001b[0;34m\u001b[0m\u001b[0m\n\u001b[1;32m      7\u001b[0m \u001b[0mX_test\u001b[0m\u001b[0;34m.\u001b[0m\u001b[0mhead\u001b[0m\u001b[0;34m(\u001b[0m\u001b[0;34m)\u001b[0m\u001b[0;34m\u001b[0m\u001b[0;34m\u001b[0m\u001b[0m\n\u001b[0;32m----> 8\u001b[0;31m \u001b[0mpred\u001b[0m \u001b[0;34m=\u001b[0m \u001b[0mclf\u001b[0m\u001b[0;34m.\u001b[0m\u001b[0mpredict\u001b[0m\u001b[0;34m(\u001b[0m\u001b[0mX_test\u001b[0m\u001b[0;34m)\u001b[0m\u001b[0;34m\u001b[0m\u001b[0;34m\u001b[0m\u001b[0m\n\u001b[0m",
      "\u001b[0;32m~/anaconda3/lib/python3.7/site-packages/sklearn/linear_model/base.py\u001b[0m in \u001b[0;36mpredict\u001b[0;34m(self, X)\u001b[0m\n\u001b[1;32m    279\u001b[0m             \u001b[0mPredicted\u001b[0m \u001b[0;32mclass\u001b[0m \u001b[0mlabel\u001b[0m \u001b[0mper\u001b[0m \u001b[0msample\u001b[0m\u001b[0;34m.\u001b[0m\u001b[0;34m\u001b[0m\u001b[0;34m\u001b[0m\u001b[0m\n\u001b[1;32m    280\u001b[0m         \"\"\"\n\u001b[0;32m--> 281\u001b[0;31m         \u001b[0mscores\u001b[0m \u001b[0;34m=\u001b[0m \u001b[0mself\u001b[0m\u001b[0;34m.\u001b[0m\u001b[0mdecision_function\u001b[0m\u001b[0;34m(\u001b[0m\u001b[0mX\u001b[0m\u001b[0;34m)\u001b[0m\u001b[0;34m\u001b[0m\u001b[0;34m\u001b[0m\u001b[0m\n\u001b[0m\u001b[1;32m    282\u001b[0m         \u001b[0;32mif\u001b[0m \u001b[0mlen\u001b[0m\u001b[0;34m(\u001b[0m\u001b[0mscores\u001b[0m\u001b[0;34m.\u001b[0m\u001b[0mshape\u001b[0m\u001b[0;34m)\u001b[0m \u001b[0;34m==\u001b[0m \u001b[0;36m1\u001b[0m\u001b[0;34m:\u001b[0m\u001b[0;34m\u001b[0m\u001b[0;34m\u001b[0m\u001b[0m\n\u001b[1;32m    283\u001b[0m             \u001b[0mindices\u001b[0m \u001b[0;34m=\u001b[0m \u001b[0;34m(\u001b[0m\u001b[0mscores\u001b[0m \u001b[0;34m>\u001b[0m \u001b[0;36m0\u001b[0m\u001b[0;34m)\u001b[0m\u001b[0;34m.\u001b[0m\u001b[0mastype\u001b[0m\u001b[0;34m(\u001b[0m\u001b[0mnp\u001b[0m\u001b[0;34m.\u001b[0m\u001b[0mint\u001b[0m\u001b[0;34m)\u001b[0m\u001b[0;34m\u001b[0m\u001b[0;34m\u001b[0m\u001b[0m\n",
      "\u001b[0;32m~/anaconda3/lib/python3.7/site-packages/sklearn/linear_model/base.py\u001b[0m in \u001b[0;36mdecision_function\u001b[0;34m(self, X)\u001b[0m\n\u001b[1;32m    255\u001b[0m                                  \"yet\" % {'name': type(self).__name__})\n\u001b[1;32m    256\u001b[0m \u001b[0;34m\u001b[0m\u001b[0m\n\u001b[0;32m--> 257\u001b[0;31m         \u001b[0mX\u001b[0m \u001b[0;34m=\u001b[0m \u001b[0mcheck_array\u001b[0m\u001b[0;34m(\u001b[0m\u001b[0mX\u001b[0m\u001b[0;34m,\u001b[0m \u001b[0maccept_sparse\u001b[0m\u001b[0;34m=\u001b[0m\u001b[0;34m'csr'\u001b[0m\u001b[0;34m)\u001b[0m\u001b[0;34m\u001b[0m\u001b[0;34m\u001b[0m\u001b[0m\n\u001b[0m\u001b[1;32m    258\u001b[0m \u001b[0;34m\u001b[0m\u001b[0m\n\u001b[1;32m    259\u001b[0m         \u001b[0mn_features\u001b[0m \u001b[0;34m=\u001b[0m \u001b[0mself\u001b[0m\u001b[0;34m.\u001b[0m\u001b[0mcoef_\u001b[0m\u001b[0;34m.\u001b[0m\u001b[0mshape\u001b[0m\u001b[0;34m[\u001b[0m\u001b[0;36m1\u001b[0m\u001b[0;34m]\u001b[0m\u001b[0;34m\u001b[0m\u001b[0;34m\u001b[0m\u001b[0m\n",
      "\u001b[0;32m~/anaconda3/lib/python3.7/site-packages/sklearn/utils/validation.py\u001b[0m in \u001b[0;36mcheck_array\u001b[0;34m(array, accept_sparse, accept_large_sparse, dtype, order, copy, force_all_finite, ensure_2d, allow_nd, ensure_min_samples, ensure_min_features, warn_on_dtype, estimator)\u001b[0m\n\u001b[1;32m    565\u001b[0m         \u001b[0;31m# make sure we actually converted to numeric:\u001b[0m\u001b[0;34m\u001b[0m\u001b[0;34m\u001b[0m\u001b[0;34m\u001b[0m\u001b[0m\n\u001b[1;32m    566\u001b[0m         \u001b[0;32mif\u001b[0m \u001b[0mdtype_numeric\u001b[0m \u001b[0;32mand\u001b[0m \u001b[0marray\u001b[0m\u001b[0;34m.\u001b[0m\u001b[0mdtype\u001b[0m\u001b[0;34m.\u001b[0m\u001b[0mkind\u001b[0m \u001b[0;34m==\u001b[0m \u001b[0;34m\"O\"\u001b[0m\u001b[0;34m:\u001b[0m\u001b[0;34m\u001b[0m\u001b[0;34m\u001b[0m\u001b[0m\n\u001b[0;32m--> 567\u001b[0;31m             \u001b[0marray\u001b[0m \u001b[0;34m=\u001b[0m \u001b[0marray\u001b[0m\u001b[0;34m.\u001b[0m\u001b[0mastype\u001b[0m\u001b[0;34m(\u001b[0m\u001b[0mnp\u001b[0m\u001b[0;34m.\u001b[0m\u001b[0mfloat64\u001b[0m\u001b[0;34m)\u001b[0m\u001b[0;34m\u001b[0m\u001b[0;34m\u001b[0m\u001b[0m\n\u001b[0m\u001b[1;32m    568\u001b[0m         \u001b[0;32mif\u001b[0m \u001b[0;32mnot\u001b[0m \u001b[0mallow_nd\u001b[0m \u001b[0;32mand\u001b[0m \u001b[0marray\u001b[0m\u001b[0;34m.\u001b[0m\u001b[0mndim\u001b[0m \u001b[0;34m>=\u001b[0m \u001b[0;36m3\u001b[0m\u001b[0;34m:\u001b[0m\u001b[0;34m\u001b[0m\u001b[0;34m\u001b[0m\u001b[0m\n\u001b[1;32m    569\u001b[0m             raise ValueError(\"Found array with dim %d. %s expected <= 2.\"\n",
      "\u001b[0;31mValueError\u001b[0m: could not convert string to float: '67.212.184.66'"
     ]
    }
   ],
   "source": [
    "X_test=df2\n",
    "X_test['Protocol'] = X_test['Protocol'].astype('category')\n",
    "X_test['Destination'] = X_test['Destination'].astype('category')\n",
    "X_test['Source'] = X_test['Source'].astype('category')\n",
    "X_test['Info'] = X_test['Info'].astype('category')  # ToDo split info in relevant columns\n",
    "X_test = X_test.drop(['Time'], axis=1)\n",
    "X_test.head()\n",
    "pred = clf.predict(X_test)"
   ]
  },
  {
   "cell_type": "code",
   "execution_count": 19,
   "metadata": {},
   "outputs": [
    {
     "data": {
      "text/html": [
       "<iframe id=\"igraph\" scrolling=\"no\" style=\"border:none;\" seamless=\"seamless\" src=\"https://plot.ly/~ninjamouse/126.embed\" height=\"525px\" width=\"100%\"></iframe>"
      ],
      "text/plain": [
       "<plotly.tools.PlotlyDisplay object>"
      ]
     },
     "execution_count": 19,
     "metadata": {},
     "output_type": "execute_result"
    }
   ],
   "source": [
    "trace3=go.Scatter(x=d2['Time'],y=d2['Length'],mode='markers')\n",
    "l=d2.query('(Length>300)&(Length<600)')\n",
    "trace4=go.Scatter(x=l['Time'],y=l['Length'], mode='lines')\n",
    "data2=[trace3, trace4]\n",
    "py.iplot(data2)"
   ]
  },
  {
   "cell_type": "code",
   "execution_count": null,
   "metadata": {},
   "outputs": [],
   "source": [
    "## TODO\n",
    "## Compute 'd' the same way you computed it in the first case\n",
    "## Plot d + pred\n",
    "## Compare overalp between d and pred"
   ]
  }
 ],
 "metadata": {
  "kernelspec": {
   "display_name": "Python 3",
   "language": "python",
   "name": "python3"
  },
  "language_info": {
   "codemirror_mode": {
    "name": "ipython",
    "version": 3
   },
   "file_extension": ".py",
   "mimetype": "text/x-python",
   "name": "python",
   "nbconvert_exporter": "python",
   "pygments_lexer": "ipython3",
   "version": "3.7.1"
  }
 },
 "nbformat": 4,
 "nbformat_minor": 2
}
