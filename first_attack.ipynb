{
 "cells": [
  {
   "cell_type": "code",
   "execution_count": null,
   "metadata": {},
   "outputs": [],
   "source": [
    "import plotly.plotly as py\n",
    "import plotly.graph_objs as go\n",
    "import plotly.figure_factory as FF\n",
    "import plotly\n",
    "#plotly.tools.set_credentials_file(username='ninjamouse', api_key='LejqbK7NWhPU7zXoMuhw')\n",
    "\n",
    "import numpy as np\n",
    "import pandas as pd\n",
    "\n",
    "df = pd.read_csv('first_attack.csv')"
   ]
  },
  {
   "cell_type": "code",
   "execution_count": null,
   "metadata": {},
   "outputs": [],
   "source": [
    "df.Source.value_counts()[0:5]"
   ]
  },
  {
   "cell_type": "code",
   "execution_count": null,
   "metadata": {},
   "outputs": [],
   "source": [
    "df.Destination.value_counts()[0:5]"
   ]
  },
  {
   "cell_type": "code",
   "execution_count": null,
   "metadata": {
    "scrolled": true
   },
   "outputs": [],
   "source": [
    "dest=df[df.Destination=='75.127.97.72']\n",
    "dest.head()"
   ]
  },
  {
   "cell_type": "code",
   "execution_count": null,
   "metadata": {
    "scrolled": false
   },
   "outputs": [],
   "source": [
    "protocol=dest[dest.Protocol==\"HTTP\"]\n",
    "protocol.head()"
   ]
  },
  {
   "cell_type": "code",
   "execution_count": null,
   "metadata": {},
   "outputs": [],
   "source": [
    "dest.Protocol.value_counts()\n",
    "dest.Info[0:5]"
   ]
  },
  {
   "cell_type": "code",
   "execution_count": null,
   "metadata": {
    "scrolled": true
   },
   "outputs": [],
   "source": [
    "trace1=go.Scatter(x=dest['Time'],y=dest['Length'],mode='markers')\n",
    "d = dest.query('(Length>300)&(Length<600)')\n",
    "trace2=go.Scatter(x=d['Time'],y=d['Length'], mode='lines')\n",
    "data=[trace1, trace2]\n",
    "py.iplot(data)"
   ]
  },
  {
   "cell_type": "code",
   "execution_count": null,
   "metadata": {},
   "outputs": [],
   "source": [
    "from sklearn import linear_model"
   ]
  },
  {
   "cell_type": "code",
   "execution_count": null,
   "metadata": {
    "scrolled": true
   },
   "outputs": [],
   "source": [
    "X = df\n",
    "\n",
    "# Treat the problem as a pure classification problem.\n",
    "\n",
    "X['Protocol'] = X['Protocol'].astype('category')\n",
    "# Could use float, but it doesn't make much sense\n",
    "#X['Source'] = X['Source'].apply(lambda x: float(x.replace('.','')))\n",
    "\n",
    "# Convert IPs to classes\n",
    "X['Destination'] = X['Destination'].astype('category')\n",
    "X['Source'] = X['Source'].astype('category')\n",
    "\n",
    "# Convert info to classes as well\n",
    "X['Info'] = X['Info'].astype('category')  # ToDo split info in relevant columns\n",
    "\n",
    "# Drop the time series for now, just to play with a classifier\n",
    "X = X.drop(['Time'], axis=1)"
   ]
  },
  {
   "cell_type": "code",
   "execution_count": null,
   "metadata": {},
   "outputs": [],
   "source": [
    "# Set some entries as 1 'attack' and 0 no attack\n",
    "# The ones you defined in d above, are entries where an attack was plausible. Everything else is clean\n",
    "Y = [0 if i not in d.index.values else 1 for i in df.index.values]"
   ]
  },
  {
   "cell_type": "code",
   "execution_count": null,
   "metadata": {},
   "outputs": [],
   "source": [
    "catColumns = X.select_dtypes(['category']).columns\n",
    "X[catColumns] = X[catColumns].apply(lambda x: x.cat.codes)"
   ]
  },
  {
   "cell_type": "code",
   "execution_count": null,
   "metadata": {},
   "outputs": [],
   "source": [
    "clf = linear_model.SGDClassifier(max_iter=1000, tol=1e-3)\n",
    "clf.fit(X, Y)"
   ]
  },
  {
   "cell_type": "code",
   "execution_count": null,
   "metadata": {},
   "outputs": [],
   "source": [
    "## TODO\n",
    "\n",
    "df = pd.read_csv('second_attack.csv')\n",
    "\n",
    "X_test = df\n",
    "\n",
    "## apply transformation methods as above\n",
    "\n",
    "pred = clf.predict(X_test)"
   ]
  },
  {
   "cell_type": "code",
   "execution_count": null,
   "metadata": {},
   "outputs": [],
   "source": [
    "## TODO\n",
    "## Compute 'd' the same way you computed it in the first case\n",
    "## Plot d + pred\n",
    "## Compare overalp between d and pred"
   ]
  },
  {
   "cell_type": "code",
   "execution_count": null,
   "metadata": {},
   "outputs": [],
   "source": []
  }
 ],
 "metadata": {
  "kernelspec": {
   "display_name": "Python 3",
   "language": "python",
   "name": "python3"
  },
  "language_info": {
   "codemirror_mode": {
    "name": "ipython",
    "version": 3
   },
   "file_extension": ".py",
   "mimetype": "text/x-python",
   "name": "python",
   "nbconvert_exporter": "python",
   "pygments_lexer": "ipython3",
   "version": "3.5.5"
  }
 },
 "nbformat": 4,
 "nbformat_minor": 2
}
