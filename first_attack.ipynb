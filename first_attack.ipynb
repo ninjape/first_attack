{
 "cells": [
  {
   "cell_type": "code",
   "execution_count": 1,
   "metadata": {},
   "outputs": [],
   "source": [
    "import plotly.plotly as py\n",
    "import plotly.graph_objs as go\n",
    "import plotly.figure_factory as FF\n",
    "import plotly\n",
    "plotly.tools.set_credentials_file(username='ninjamouse', api_key='LejqbK7NWhPU7zXoMuhw')\n",
    "\n",
    "import numpy as np\n",
    "import pandas as pd\n",
    "\n",
    "df = pd.read_csv('first_attack.csv')"
   ]
  },
  {
   "cell_type": "code",
   "execution_count": 2,
   "metadata": {
    "scrolled": true
   },
   "outputs": [
    {
     "data": {
      "text/html": [
       "<div>\n",
       "<style scoped>\n",
       "    .dataframe tbody tr th:only-of-type {\n",
       "        vertical-align: middle;\n",
       "    }\n",
       "\n",
       "    .dataframe tbody tr th {\n",
       "        vertical-align: top;\n",
       "    }\n",
       "\n",
       "    .dataframe thead th {\n",
       "        text-align: right;\n",
       "    }\n",
       "</style>\n",
       "<table border=\"1\" class=\"dataframe\">\n",
       "  <thead>\n",
       "    <tr style=\"text-align: right;\">\n",
       "      <th></th>\n",
       "      <th>No.</th>\n",
       "      <th>Time</th>\n",
       "      <th>Source</th>\n",
       "      <th>Destination</th>\n",
       "      <th>Protocol</th>\n",
       "      <th>Length</th>\n",
       "      <th>Info</th>\n",
       "    </tr>\n",
       "  </thead>\n",
       "  <tbody>\n",
       "    <tr>\n",
       "      <th>0</th>\n",
       "      <td>1</td>\n",
       "      <td>2010-06-12 06:50:00,055616</td>\n",
       "      <td>88.208.248.162</td>\n",
       "      <td>192.168.4.120</td>\n",
       "      <td>HTTP</td>\n",
       "      <td>1514</td>\n",
       "      <td>Continuation</td>\n",
       "    </tr>\n",
       "    <tr>\n",
       "      <th>1</th>\n",
       "      <td>2</td>\n",
       "      <td>2010-06-12 06:50:00,059867</td>\n",
       "      <td>88.208.248.162</td>\n",
       "      <td>192.168.4.120</td>\n",
       "      <td>HTTP</td>\n",
       "      <td>1514</td>\n",
       "      <td>Continuation</td>\n",
       "    </tr>\n",
       "    <tr>\n",
       "      <th>2</th>\n",
       "      <td>3</td>\n",
       "      <td>2010-06-12 06:50:00,061151</td>\n",
       "      <td>192.168.4.120</td>\n",
       "      <td>88.208.248.162</td>\n",
       "      <td>TCP</td>\n",
       "      <td>60</td>\n",
       "      <td>2677  &gt;  80 [ACK] Seq=1 Ack=2921 Win=17520 Len=0</td>\n",
       "    </tr>\n",
       "    <tr>\n",
       "      <th>3</th>\n",
       "      <td>4</td>\n",
       "      <td>2010-06-12 06:50:00,062786</td>\n",
       "      <td>208.122.28.2</td>\n",
       "      <td>192.168.4.120</td>\n",
       "      <td>HTTP</td>\n",
       "      <td>1195</td>\n",
       "      <td>HTTP/1.1 200 OK  (JPEG JFIF image)</td>\n",
       "    </tr>\n",
       "    <tr>\n",
       "      <th>4</th>\n",
       "      <td>5</td>\n",
       "      <td>2010-06-12 06:50:00,064234</td>\n",
       "      <td>192.168.4.120</td>\n",
       "      <td>208.122.28.10</td>\n",
       "      <td>HTTP</td>\n",
       "      <td>140</td>\n",
       "      <td>GET /profile_images/159516/rollinsliar_small.j...</td>\n",
       "    </tr>\n",
       "  </tbody>\n",
       "</table>\n",
       "</div>"
      ],
      "text/plain": [
       "   No.                        Time          Source     Destination Protocol  \\\n",
       "0    1  2010-06-12 06:50:00,055616  88.208.248.162   192.168.4.120     HTTP   \n",
       "1    2  2010-06-12 06:50:00,059867  88.208.248.162   192.168.4.120     HTTP   \n",
       "2    3  2010-06-12 06:50:00,061151   192.168.4.120  88.208.248.162      TCP   \n",
       "3    4  2010-06-12 06:50:00,062786    208.122.28.2   192.168.4.120     HTTP   \n",
       "4    5  2010-06-12 06:50:00,064234   192.168.4.120   208.122.28.10     HTTP   \n",
       "\n",
       "   Length                                               Info  \n",
       "0    1514                                       Continuation  \n",
       "1    1514                                       Continuation  \n",
       "2      60   2677  >  80 [ACK] Seq=1 Ack=2921 Win=17520 Len=0  \n",
       "3    1195                 HTTP/1.1 200 OK  (JPEG JFIF image)  \n",
       "4     140  GET /profile_images/159516/rollinsliar_small.j...  "
      ]
     },
     "execution_count": 2,
     "metadata": {},
     "output_type": "execute_result"
    }
   ],
   "source": [
    "df.head()"
   ]
  },
  {
   "cell_type": "code",
   "execution_count": 3,
   "metadata": {},
   "outputs": [],
   "source": [
    "#df.sort_values(['Source', 'Destination'],  ascending=[True, False]  )\n",
    "#df['Info'] = df['Info'].astype('str')\n",
    "#get=df[df['Info'].str.contains('GET')]\n",
    "\n",
    "\n",
    "#Sort the connections based on the pair Source-->Destination\n",
    "#Select all the connections that have Source IP and Destiantion IP with 75.127.97.72\n",
    "df.drop(['Time', 'Protocol', 'Length', 'Info'], axis=1)\\\n",
    "            .groupby([\"Source\", 'Destination']) \\\n",
    "            .count() \\\n",
    "            .sort_values(['No.'], ascending=False)\\\n",
    "            .head()\n",
    "d=df[(df.Destination=='75.127.97.72') | (df.Source=='75.127.97.72')]   "
   ]
  },
  {
   "cell_type": "code",
   "execution_count": 4,
   "metadata": {},
   "outputs": [
    {
     "data": {
      "text/html": [
       "<div>\n",
       "<style scoped>\n",
       "    .dataframe tbody tr th:only-of-type {\n",
       "        vertical-align: middle;\n",
       "    }\n",
       "\n",
       "    .dataframe tbody tr th {\n",
       "        vertical-align: top;\n",
       "    }\n",
       "\n",
       "    .dataframe thead th {\n",
       "        text-align: right;\n",
       "    }\n",
       "</style>\n",
       "<table border=\"1\" class=\"dataframe\">\n",
       "  <thead>\n",
       "    <tr style=\"text-align: right;\">\n",
       "      <th></th>\n",
       "      <th>No.</th>\n",
       "      <th>Time</th>\n",
       "      <th>Source</th>\n",
       "      <th>Destination</th>\n",
       "      <th>Protocol</th>\n",
       "      <th>Length</th>\n",
       "      <th>Info</th>\n",
       "    </tr>\n",
       "  </thead>\n",
       "  <tbody>\n",
       "    <tr>\n",
       "      <th>4</th>\n",
       "      <td>5</td>\n",
       "      <td>2010-06-12 06:50:00,064234</td>\n",
       "      <td>192.168.4.120</td>\n",
       "      <td>208.122.28.10</td>\n",
       "      <td>HTTP</td>\n",
       "      <td>140</td>\n",
       "      <td>GET /profile_images/159516/rollinsliar_small.j...</td>\n",
       "    </tr>\n",
       "    <tr>\n",
       "      <th>6</th>\n",
       "      <td>7</td>\n",
       "      <td>2010-06-12 06:50:00,066804</td>\n",
       "      <td>192.168.4.120</td>\n",
       "      <td>88.208.248.162</td>\n",
       "      <td>HTTP</td>\n",
       "      <td>245</td>\n",
       "      <td>GET /Car-Products/Bike-Racks/Bike-Racks-Thule-...</td>\n",
       "    </tr>\n",
       "    <tr>\n",
       "      <th>10</th>\n",
       "      <td>11</td>\n",
       "      <td>2010-06-12 06:50:00,092368</td>\n",
       "      <td>192.168.2.110</td>\n",
       "      <td>67.220.214.50</td>\n",
       "      <td>HTTP</td>\n",
       "      <td>112</td>\n",
       "      <td>GET /images/rss2.gif HTTP/1.1</td>\n",
       "    </tr>\n",
       "    <tr>\n",
       "      <th>12</th>\n",
       "      <td>13</td>\n",
       "      <td>2010-06-12 06:50:00,121749</td>\n",
       "      <td>192.168.4.120</td>\n",
       "      <td>208.122.28.2</td>\n",
       "      <td>HTTP</td>\n",
       "      <td>149</td>\n",
       "      <td>GET /profile_images/228715/Logo_Baseball_Canad...</td>\n",
       "    </tr>\n",
       "    <tr>\n",
       "      <th>18</th>\n",
       "      <td>19</td>\n",
       "      <td>2010-06-12 06:50:00,180490</td>\n",
       "      <td>192.168.4.120</td>\n",
       "      <td>208.122.28.4</td>\n",
       "      <td>HTTP</td>\n",
       "      <td>143</td>\n",
       "      <td>GET /profile_images/259115/discrimination_smal...</td>\n",
       "    </tr>\n",
       "  </tbody>\n",
       "</table>\n",
       "</div>"
      ],
      "text/plain": [
       "    No.                        Time         Source     Destination Protocol  \\\n",
       "4     5  2010-06-12 06:50:00,064234  192.168.4.120   208.122.28.10     HTTP   \n",
       "6     7  2010-06-12 06:50:00,066804  192.168.4.120  88.208.248.162     HTTP   \n",
       "10   11  2010-06-12 06:50:00,092368  192.168.2.110   67.220.214.50     HTTP   \n",
       "12   13  2010-06-12 06:50:00,121749  192.168.4.120    208.122.28.2     HTTP   \n",
       "18   19  2010-06-12 06:50:00,180490  192.168.4.120    208.122.28.4     HTTP   \n",
       "\n",
       "    Length                                               Info  \n",
       "4      140  GET /profile_images/159516/rollinsliar_small.j...  \n",
       "6      245  GET /Car-Products/Bike-Racks/Bike-Racks-Thule-...  \n",
       "10     112                     GET /images/rss2.gif HTTP/1.1   \n",
       "12     149  GET /profile_images/228715/Logo_Baseball_Canad...  \n",
       "18     143  GET /profile_images/259115/discrimination_smal...  "
      ]
     },
     "execution_count": 4,
     "metadata": {},
     "output_type": "execute_result"
    }
   ],
   "source": [
    "df['Info'] = df['Info'].astype('str')\n",
    "df[df['Info'].str.contains('GET')].head()"
   ]
  },
  {
   "cell_type": "code",
   "execution_count": 5,
   "metadata": {
    "scrolled": true
   },
   "outputs": [
    {
     "data": {
      "text/html": [
       "<iframe id=\"igraph\" scrolling=\"no\" style=\"border:none;\" seamless=\"seamless\" src=\"https://plot.ly/~ninjamouse/108.embed\" height=\"525px\" width=\"100%\"></iframe>"
      ],
      "text/plain": [
       "<plotly.tools.PlotlyDisplay object>"
      ]
     },
     "execution_count": 5,
     "metadata": {},
     "output_type": "execute_result"
    }
   ],
   "source": [
    "trace1=go.Scatter(x=d['Time'],y=d['Length'],mode='markers')\n",
    "l=d.query('(Length>300)&(Length<600)')\n",
    "trace2=go.Scatter(x=l['Time'],y=l['Length'], mode='lines')\n",
    "data=[trace1, trace2]\n",
    "py.iplot(data)"
   ]
  },
  {
   "cell_type": "code",
   "execution_count": 6,
   "metadata": {},
   "outputs": [],
   "source": [
    "from sklearn import linear_model"
   ]
  },
  {
   "cell_type": "code",
   "execution_count": 7,
   "metadata": {
    "scrolled": true
   },
   "outputs": [
    {
     "data": {
      "text/html": [
       "<div>\n",
       "<style scoped>\n",
       "    .dataframe tbody tr th:only-of-type {\n",
       "        vertical-align: middle;\n",
       "    }\n",
       "\n",
       "    .dataframe tbody tr th {\n",
       "        vertical-align: top;\n",
       "    }\n",
       "\n",
       "    .dataframe thead th {\n",
       "        text-align: right;\n",
       "    }\n",
       "</style>\n",
       "<table border=\"1\" class=\"dataframe\">\n",
       "  <thead>\n",
       "    <tr style=\"text-align: right;\">\n",
       "      <th></th>\n",
       "      <th>No.</th>\n",
       "      <th>Source</th>\n",
       "      <th>Destination</th>\n",
       "      <th>Protocol</th>\n",
       "      <th>Length</th>\n",
       "      <th>Info</th>\n",
       "    </tr>\n",
       "  </thead>\n",
       "  <tbody>\n",
       "    <tr>\n",
       "      <th>0</th>\n",
       "      <td>1</td>\n",
       "      <td>88.208.248.162</td>\n",
       "      <td>192.168.4.120</td>\n",
       "      <td>HTTP</td>\n",
       "      <td>1514</td>\n",
       "      <td>Continuation</td>\n",
       "    </tr>\n",
       "    <tr>\n",
       "      <th>1</th>\n",
       "      <td>2</td>\n",
       "      <td>88.208.248.162</td>\n",
       "      <td>192.168.4.120</td>\n",
       "      <td>HTTP</td>\n",
       "      <td>1514</td>\n",
       "      <td>Continuation</td>\n",
       "    </tr>\n",
       "    <tr>\n",
       "      <th>2</th>\n",
       "      <td>3</td>\n",
       "      <td>192.168.4.120</td>\n",
       "      <td>88.208.248.162</td>\n",
       "      <td>TCP</td>\n",
       "      <td>60</td>\n",
       "      <td>2677  &gt;  80 [ACK] Seq=1 Ack=2921 Win=17520 Len=0</td>\n",
       "    </tr>\n",
       "    <tr>\n",
       "      <th>3</th>\n",
       "      <td>4</td>\n",
       "      <td>208.122.28.2</td>\n",
       "      <td>192.168.4.120</td>\n",
       "      <td>HTTP</td>\n",
       "      <td>1195</td>\n",
       "      <td>HTTP/1.1 200 OK  (JPEG JFIF image)</td>\n",
       "    </tr>\n",
       "    <tr>\n",
       "      <th>4</th>\n",
       "      <td>5</td>\n",
       "      <td>192.168.4.120</td>\n",
       "      <td>208.122.28.10</td>\n",
       "      <td>HTTP</td>\n",
       "      <td>140</td>\n",
       "      <td>GET /profile_images/159516/rollinsliar_small.j...</td>\n",
       "    </tr>\n",
       "  </tbody>\n",
       "</table>\n",
       "</div>"
      ],
      "text/plain": [
       "   No.          Source     Destination Protocol  Length  \\\n",
       "0    1  88.208.248.162   192.168.4.120     HTTP    1514   \n",
       "1    2  88.208.248.162   192.168.4.120     HTTP    1514   \n",
       "2    3   192.168.4.120  88.208.248.162      TCP      60   \n",
       "3    4    208.122.28.2   192.168.4.120     HTTP    1195   \n",
       "4    5   192.168.4.120   208.122.28.10     HTTP     140   \n",
       "\n",
       "                                                Info  \n",
       "0                                       Continuation  \n",
       "1                                       Continuation  \n",
       "2   2677  >  80 [ACK] Seq=1 Ack=2921 Win=17520 Len=0  \n",
       "3                 HTTP/1.1 200 OK  (JPEG JFIF image)  \n",
       "4  GET /profile_images/159516/rollinsliar_small.j...  "
      ]
     },
     "execution_count": 7,
     "metadata": {},
     "output_type": "execute_result"
    }
   ],
   "source": [
    "X = df\n",
    "\n",
    "# Treat the problem as a pure classification problem.\n",
    "\n",
    "X['Protocol'] = X['Protocol'].astype('category')\n",
    "# Could use float, but it doesn't make much sense\n",
    "#X['Source'] = X['Source'].apply(lambda x: float(x.replace('.','')))\n",
    "\n",
    "# Convert IPs to classes\n",
    "X['Destination'] = X['Destination'].astype('category')\n",
    "X['Source'] = X['Source'].astype('category')\n",
    "\n",
    "# Convert info to classes as well\n",
    "X['Info'] = X['Info'].astype('category')  # ToDo split info in relevant columns\n",
    "\n",
    "# Drop the time series for now, just to play with a classifier\n",
    "X = X.drop(['Time'], axis=1)\n",
    "X.head()"
   ]
  },
  {
   "cell_type": "code",
   "execution_count": 8,
   "metadata": {},
   "outputs": [],
   "source": [
    "# Set some entries as 1 'attack' and 0 no attack\n",
    "# The ones you defined in d above, are entries where an attack was plausible. Everything else is clean\n",
    "Y = [0 if i not in l.index.values else 1 for i in df.index.values]"
   ]
  },
  {
   "cell_type": "code",
   "execution_count": 57,
   "metadata": {},
   "outputs": [],
   "source": [
    "#1. Aici ce facem? Pentru fiecare valoare este asignata nu cod?\n",
    "## Transformam toate coloanele care nu sunt numerice, in valori numerice.\n",
    "## De exemplu, pentru coloana Protocol ai valori 'HTTP' si 'TCP'. Matematic e greu sa le analizezi\n",
    "## daca nu sunt in format numeric. Asa ca functia lambda de mai jos iti transforma\n",
    "## toate valorile 'HTTP' in 0 si 'TCP' in 1 (de exemplu). Daca ai mai multe coloane, ai mai multe valori (0,1,2,3..)\n",
    "catColumns = X.select_dtypes(['category']).columns\n",
    "X[catColumns] = X[catColumns].apply(lambda x: x.cat.codes)"
   ]
  },
  {
   "cell_type": "code",
   "execution_count": 9,
   "metadata": {},
   "outputs": [
    {
     "data": {
      "text/plain": [
       "Index(['No.', 'Source', 'Destination', 'Protocol', 'Length', 'Info'], dtype='object')"
      ]
     },
     "execution_count": 9,
     "metadata": {},
     "output_type": "execute_result"
    }
   ],
   "source": [
    "X.columns"
   ]
  },
  {
   "cell_type": "code",
   "execution_count": 10,
   "metadata": {},
   "outputs": [
    {
     "ename": "ValueError",
     "evalue": "could not convert string to float: '2951  >  80 [ACK] Seq=262 Ack=101396 Win=17185 Len=0'",
     "output_type": "error",
     "traceback": [
      "\u001b[0;31m---------------------------------------------------------------------------\u001b[0m",
      "\u001b[0;31mValueError\u001b[0m                                Traceback (most recent call last)",
      "\u001b[0;32m<ipython-input-10-137ae027d59c>\u001b[0m in \u001b[0;36m<module>\u001b[0;34m()\u001b[0m\n\u001b[1;32m      7\u001b[0m \u001b[0;34m\u001b[0m\u001b[0m\n\u001b[1;32m      8\u001b[0m \u001b[0mclf\u001b[0m \u001b[0;34m=\u001b[0m \u001b[0mlinear_model\u001b[0m\u001b[0;34m.\u001b[0m\u001b[0mSGDClassifier\u001b[0m\u001b[0;34m(\u001b[0m\u001b[0mmax_iter\u001b[0m\u001b[0;34m=\u001b[0m\u001b[0;36m1000\u001b[0m\u001b[0;34m,\u001b[0m \u001b[0mtol\u001b[0m\u001b[0;34m=\u001b[0m\u001b[0;36m1e-3\u001b[0m\u001b[0;34m)\u001b[0m\u001b[0;34m\u001b[0m\u001b[0m\n\u001b[0;32m----> 9\u001b[0;31m \u001b[0mclf\u001b[0m\u001b[0;34m.\u001b[0m\u001b[0mfit\u001b[0m\u001b[0;34m(\u001b[0m\u001b[0mX\u001b[0m\u001b[0;34m,\u001b[0m \u001b[0mY\u001b[0m\u001b[0;34m)\u001b[0m\u001b[0;34m\u001b[0m\u001b[0m\n\u001b[0m",
      "\u001b[0;32m~/anaconda3/envs/dev/lib/python3.5/site-packages/sklearn/linear_model/stochastic_gradient.py\u001b[0m in \u001b[0;36mfit\u001b[0;34m(self, X, y, coef_init, intercept_init, sample_weight)\u001b[0m\n\u001b[1;32m    584\u001b[0m                          \u001b[0mloss\u001b[0m\u001b[0;34m=\u001b[0m\u001b[0mself\u001b[0m\u001b[0;34m.\u001b[0m\u001b[0mloss\u001b[0m\u001b[0;34m,\u001b[0m \u001b[0mlearning_rate\u001b[0m\u001b[0;34m=\u001b[0m\u001b[0mself\u001b[0m\u001b[0;34m.\u001b[0m\u001b[0mlearning_rate\u001b[0m\u001b[0;34m,\u001b[0m\u001b[0;34m\u001b[0m\u001b[0m\n\u001b[1;32m    585\u001b[0m                          \u001b[0mcoef_init\u001b[0m\u001b[0;34m=\u001b[0m\u001b[0mcoef_init\u001b[0m\u001b[0;34m,\u001b[0m \u001b[0mintercept_init\u001b[0m\u001b[0;34m=\u001b[0m\u001b[0mintercept_init\u001b[0m\u001b[0;34m,\u001b[0m\u001b[0;34m\u001b[0m\u001b[0m\n\u001b[0;32m--> 586\u001b[0;31m                          sample_weight=sample_weight)\n\u001b[0m\u001b[1;32m    587\u001b[0m \u001b[0;34m\u001b[0m\u001b[0m\n\u001b[1;32m    588\u001b[0m \u001b[0;34m\u001b[0m\u001b[0m\n",
      "\u001b[0;32m~/anaconda3/envs/dev/lib/python3.5/site-packages/sklearn/linear_model/stochastic_gradient.py\u001b[0m in \u001b[0;36m_fit\u001b[0;34m(self, X, y, alpha, C, loss, learning_rate, coef_init, intercept_init, sample_weight)\u001b[0m\n\u001b[1;32m    416\u001b[0m             \u001b[0mself\u001b[0m\u001b[0;34m.\u001b[0m\u001b[0mclasses_\u001b[0m \u001b[0;34m=\u001b[0m \u001b[0;32mNone\u001b[0m\u001b[0;34m\u001b[0m\u001b[0m\n\u001b[1;32m    417\u001b[0m \u001b[0;34m\u001b[0m\u001b[0m\n\u001b[0;32m--> 418\u001b[0;31m         \u001b[0mX\u001b[0m\u001b[0;34m,\u001b[0m \u001b[0my\u001b[0m \u001b[0;34m=\u001b[0m \u001b[0mcheck_X_y\u001b[0m\u001b[0;34m(\u001b[0m\u001b[0mX\u001b[0m\u001b[0;34m,\u001b[0m \u001b[0my\u001b[0m\u001b[0;34m,\u001b[0m \u001b[0;34m'csr'\u001b[0m\u001b[0;34m,\u001b[0m \u001b[0mdtype\u001b[0m\u001b[0;34m=\u001b[0m\u001b[0mnp\u001b[0m\u001b[0;34m.\u001b[0m\u001b[0mfloat64\u001b[0m\u001b[0;34m,\u001b[0m \u001b[0morder\u001b[0m\u001b[0;34m=\u001b[0m\u001b[0;34m\"C\"\u001b[0m\u001b[0;34m)\u001b[0m\u001b[0;34m\u001b[0m\u001b[0m\n\u001b[0m\u001b[1;32m    419\u001b[0m         \u001b[0mn_samples\u001b[0m\u001b[0;34m,\u001b[0m \u001b[0mn_features\u001b[0m \u001b[0;34m=\u001b[0m \u001b[0mX\u001b[0m\u001b[0;34m.\u001b[0m\u001b[0mshape\u001b[0m\u001b[0;34m\u001b[0m\u001b[0m\n\u001b[1;32m    420\u001b[0m \u001b[0;34m\u001b[0m\u001b[0m\n",
      "\u001b[0;32m~/anaconda3/envs/dev/lib/python3.5/site-packages/sklearn/utils/validation.py\u001b[0m in \u001b[0;36mcheck_X_y\u001b[0;34m(X, y, accept_sparse, dtype, order, copy, force_all_finite, ensure_2d, allow_nd, multi_output, ensure_min_samples, ensure_min_features, y_numeric, warn_on_dtype, estimator)\u001b[0m\n\u001b[1;32m    571\u001b[0m     X = check_array(X, accept_sparse, dtype, order, copy, force_all_finite,\n\u001b[1;32m    572\u001b[0m                     \u001b[0mensure_2d\u001b[0m\u001b[0;34m,\u001b[0m \u001b[0mallow_nd\u001b[0m\u001b[0;34m,\u001b[0m \u001b[0mensure_min_samples\u001b[0m\u001b[0;34m,\u001b[0m\u001b[0;34m\u001b[0m\u001b[0m\n\u001b[0;32m--> 573\u001b[0;31m                     ensure_min_features, warn_on_dtype, estimator)\n\u001b[0m\u001b[1;32m    574\u001b[0m     \u001b[0;32mif\u001b[0m \u001b[0mmulti_output\u001b[0m\u001b[0;34m:\u001b[0m\u001b[0;34m\u001b[0m\u001b[0m\n\u001b[1;32m    575\u001b[0m         y = check_array(y, 'csr', force_all_finite=True, ensure_2d=False,\n",
      "\u001b[0;32m~/anaconda3/envs/dev/lib/python3.5/site-packages/sklearn/utils/validation.py\u001b[0m in \u001b[0;36mcheck_array\u001b[0;34m(array, accept_sparse, dtype, order, copy, force_all_finite, ensure_2d, allow_nd, ensure_min_samples, ensure_min_features, warn_on_dtype, estimator)\u001b[0m\n\u001b[1;32m    431\u001b[0m                                       force_all_finite)\n\u001b[1;32m    432\u001b[0m     \u001b[0;32melse\u001b[0m\u001b[0;34m:\u001b[0m\u001b[0;34m\u001b[0m\u001b[0m\n\u001b[0;32m--> 433\u001b[0;31m         \u001b[0marray\u001b[0m \u001b[0;34m=\u001b[0m \u001b[0mnp\u001b[0m\u001b[0;34m.\u001b[0m\u001b[0marray\u001b[0m\u001b[0;34m(\u001b[0m\u001b[0marray\u001b[0m\u001b[0;34m,\u001b[0m \u001b[0mdtype\u001b[0m\u001b[0;34m=\u001b[0m\u001b[0mdtype\u001b[0m\u001b[0;34m,\u001b[0m \u001b[0morder\u001b[0m\u001b[0;34m=\u001b[0m\u001b[0morder\u001b[0m\u001b[0;34m,\u001b[0m \u001b[0mcopy\u001b[0m\u001b[0;34m=\u001b[0m\u001b[0mcopy\u001b[0m\u001b[0;34m)\u001b[0m\u001b[0;34m\u001b[0m\u001b[0m\n\u001b[0m\u001b[1;32m    434\u001b[0m \u001b[0;34m\u001b[0m\u001b[0m\n\u001b[1;32m    435\u001b[0m         \u001b[0;32mif\u001b[0m \u001b[0mensure_2d\u001b[0m\u001b[0;34m:\u001b[0m\u001b[0;34m\u001b[0m\u001b[0m\n",
      "\u001b[0;31mValueError\u001b[0m: could not convert string to float: '2951  >  80 [ACK] Seq=262 Ack=101396 Win=17185 Len=0'"
     ]
    }
   ],
   "source": [
    "#2. Banuiesc ca aici este aplicat algoritmul de linear regression? Ar trebui sa il inteleg sau doar il aplic si gata?\n",
    "## Aici faci doar partea de model fitting a algoritmului. Pe baza valorilor din X, iti antrenezi modelul ca sa prezica\n",
    "## valorile din Y. Aici calculezi coeficientii cei mai potriviti din formula liniara care iti satisfac cel mai bine\n",
    "## X = Y\n",
    "## sau mai in detaliu, ai avea \n",
    "## coef_Source * X['Source'] + coef_Destination * X['Destination'] + .. + coef_Info * X['Info'] = Y\n",
    "## ,pentru fiecare linie din X si linia corespunzatoare din Y\n",
    "\n",
    "clf = linear_model.SGDClassifier(max_iter=1000, tol=1e-3)\n",
    "clf.fit(X, Y)"
   ]
  },
  {
   "cell_type": "code",
   "execution_count": null,
   "metadata": {},
   "outputs": [],
   "source": [
    "# ## TODO\n",
    "\n",
    "# df = pd.read_csv('second_attack.csv')\n",
    "\n",
    "# X_test = df\n",
    "\n",
    "# ## apply transformation methods as above\n",
    "\n",
    "# pred = clf.predict(X_test)"
   ]
  },
  {
   "cell_type": "code",
   "execution_count": null,
   "metadata": {},
   "outputs": [],
   "source": [
    "## TODO\n",
    "## Compute 'd' the same way you computed it in the first case\n",
    "## Plot d + pred\n",
    "## Compare overalp between d and pred"
   ]
  }
 ],
 "metadata": {
  "kernelspec": {
   "display_name": "Python 3",
   "language": "python",
   "name": "python3"
  },
  "language_info": {
   "codemirror_mode": {
    "name": "ipython",
    "version": 3
   },
   "file_extension": ".py",
   "mimetype": "text/x-python",
   "name": "python",
   "nbconvert_exporter": "python",
   "pygments_lexer": "ipython3",
   "version": "3.5.5"
  }
 },
 "nbformat": 4,
 "nbformat_minor": 2
}
