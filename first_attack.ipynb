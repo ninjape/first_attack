{
 "cells": [
  {
   "cell_type": "code",
   "execution_count": 1,
   "metadata": {},
   "outputs": [],
   "source": [
    "import plotly.plotly as py\n",
    "import plotly.graph_objs as go\n",
    "import plotly.figure_factory as FF\n",
    "import plotly\n",
    "#plotly.tools.set_credentials_file(username='ninjamouse', api_key='LejqbK7NWhPU7zXoMuhw')\n",
    "\n",
    "import numpy as np\n",
    "import pandas as pd\n",
    "\n",
    "df = pd.read_csv('first_attack.csv')"
   ]
  },
  {
   "cell_type": "code",
   "execution_count": 2,
   "metadata": {},
   "outputs": [
    {
     "data": {
      "text/plain": [
       "192.168.4.120      15032\n",
       "74.63.40.21         5735\n",
       "192.168.56.1        4733\n",
       "75.127.97.72        4218\n",
       "174.133.126.130     3747\n",
       "Name: Source, dtype: int64"
      ]
     },
     "execution_count": 2,
     "metadata": {},
     "output_type": "execute_result"
    }
   ],
   "source": [
    "df.Source.value_counts()[0:5]"
   ]
  },
  {
   "cell_type": "code",
   "execution_count": 3,
   "metadata": {},
   "outputs": [
    {
     "data": {
      "text/plain": [
       "192.168.4.120    23440\n",
       "75.127.97.72      4719\n",
       "192.168.56.1      4218\n",
       "74.63.40.21       3170\n",
       "192.168.2.110     2767\n",
       "Name: Destination, dtype: int64"
      ]
     },
     "execution_count": 3,
     "metadata": {},
     "output_type": "execute_result"
    }
   ],
   "source": [
    "df.Destination.value_counts()[0:5]"
   ]
  },
  {
   "cell_type": "code",
   "execution_count": 4,
   "metadata": {
    "scrolled": true
   },
   "outputs": [
    {
     "data": {
      "text/html": [
       "<div>\n",
       "<style scoped>\n",
       "    .dataframe tbody tr th:only-of-type {\n",
       "        vertical-align: middle;\n",
       "    }\n",
       "\n",
       "    .dataframe tbody tr th {\n",
       "        vertical-align: top;\n",
       "    }\n",
       "\n",
       "    .dataframe thead th {\n",
       "        text-align: right;\n",
       "    }\n",
       "</style>\n",
       "<table border=\"1\" class=\"dataframe\">\n",
       "  <thead>\n",
       "    <tr style=\"text-align: right;\">\n",
       "      <th></th>\n",
       "      <th>No.</th>\n",
       "      <th>Time</th>\n",
       "      <th>Source</th>\n",
       "      <th>Destination</th>\n",
       "      <th>Protocol</th>\n",
       "      <th>Length</th>\n",
       "      <th>Info</th>\n",
       "    </tr>\n",
       "  </thead>\n",
       "  <tbody>\n",
       "    <tr>\n",
       "      <th>31173</th>\n",
       "      <td>31174</td>\n",
       "      <td>2010-06-12 06:54:06,347684</td>\n",
       "      <td>192.168.56.1</td>\n",
       "      <td>75.127.97.72</td>\n",
       "      <td>TCP</td>\n",
       "      <td>74</td>\n",
       "      <td>52998  &gt;  80 [SYN] Seq=0 Win=29200 Len=0 MSS=1...</td>\n",
       "    </tr>\n",
       "    <tr>\n",
       "      <th>31175</th>\n",
       "      <td>31176</td>\n",
       "      <td>2010-06-12 06:54:06,348033</td>\n",
       "      <td>192.168.56.1</td>\n",
       "      <td>75.127.97.72</td>\n",
       "      <td>TCP</td>\n",
       "      <td>66</td>\n",
       "      <td>52998  &gt;  80 [ACK] Seq=1 Ack=1 Win=29696 Len=0...</td>\n",
       "    </tr>\n",
       "    <tr>\n",
       "      <th>31176</th>\n",
       "      <td>31177</td>\n",
       "      <td>2010-06-12 06:54:06,348044</td>\n",
       "      <td>192.168.56.1</td>\n",
       "      <td>75.127.97.72</td>\n",
       "      <td>HTTP</td>\n",
       "      <td>710</td>\n",
       "      <td>GET /drupal7/ HTTP/1.1</td>\n",
       "    </tr>\n",
       "    <tr>\n",
       "      <th>31184</th>\n",
       "      <td>31185</td>\n",
       "      <td>2010-06-12 06:54:06,552973</td>\n",
       "      <td>192.168.56.1</td>\n",
       "      <td>75.127.97.72</td>\n",
       "      <td>TCP</td>\n",
       "      <td>66</td>\n",
       "      <td>52998  &gt;  80 [ACK] Seq=645 Ack=4345 Win=37888 ...</td>\n",
       "    </tr>\n",
       "    <tr>\n",
       "      <th>31186</th>\n",
       "      <td>31187</td>\n",
       "      <td>2010-06-12 06:54:06,553056</td>\n",
       "      <td>192.168.56.1</td>\n",
       "      <td>75.127.97.72</td>\n",
       "      <td>TCP</td>\n",
       "      <td>66</td>\n",
       "      <td>52998  &gt;  80 [ACK] Seq=645 Ack=4444 Win=37888 ...</td>\n",
       "    </tr>\n",
       "  </tbody>\n",
       "</table>\n",
       "</div>"
      ],
      "text/plain": [
       "         No.                        Time        Source   Destination Protocol  \\\n",
       "31173  31174  2010-06-12 06:54:06,347684  192.168.56.1  75.127.97.72      TCP   \n",
       "31175  31176  2010-06-12 06:54:06,348033  192.168.56.1  75.127.97.72      TCP   \n",
       "31176  31177  2010-06-12 06:54:06,348044  192.168.56.1  75.127.97.72     HTTP   \n",
       "31184  31185  2010-06-12 06:54:06,552973  192.168.56.1  75.127.97.72      TCP   \n",
       "31186  31187  2010-06-12 06:54:06,553056  192.168.56.1  75.127.97.72      TCP   \n",
       "\n",
       "       Length                                               Info  \n",
       "31173      74  52998  >  80 [SYN] Seq=0 Win=29200 Len=0 MSS=1...  \n",
       "31175      66  52998  >  80 [ACK] Seq=1 Ack=1 Win=29696 Len=0...  \n",
       "31176     710                            GET /drupal7/ HTTP/1.1   \n",
       "31184      66  52998  >  80 [ACK] Seq=645 Ack=4345 Win=37888 ...  \n",
       "31186      66  52998  >  80 [ACK] Seq=645 Ack=4444 Win=37888 ...  "
      ]
     },
     "execution_count": 4,
     "metadata": {},
     "output_type": "execute_result"
    }
   ],
   "source": [
    "dest=df[df.Destination=='75.127.97.72']\n",
    "dest.head()"
   ]
  },
  {
   "cell_type": "code",
   "execution_count": 5,
   "metadata": {
    "scrolled": false
   },
   "outputs": [
    {
     "data": {
      "text/html": [
       "<div>\n",
       "<style scoped>\n",
       "    .dataframe tbody tr th:only-of-type {\n",
       "        vertical-align: middle;\n",
       "    }\n",
       "\n",
       "    .dataframe tbody tr th {\n",
       "        vertical-align: top;\n",
       "    }\n",
       "\n",
       "    .dataframe thead th {\n",
       "        text-align: right;\n",
       "    }\n",
       "</style>\n",
       "<table border=\"1\" class=\"dataframe\">\n",
       "  <thead>\n",
       "    <tr style=\"text-align: right;\">\n",
       "      <th></th>\n",
       "      <th>No.</th>\n",
       "      <th>Time</th>\n",
       "      <th>Source</th>\n",
       "      <th>Destination</th>\n",
       "      <th>Protocol</th>\n",
       "      <th>Length</th>\n",
       "      <th>Info</th>\n",
       "    </tr>\n",
       "  </thead>\n",
       "  <tbody>\n",
       "    <tr>\n",
       "      <th>31176</th>\n",
       "      <td>31177</td>\n",
       "      <td>2010-06-12 06:54:06,348044</td>\n",
       "      <td>192.168.56.1</td>\n",
       "      <td>75.127.97.72</td>\n",
       "      <td>HTTP</td>\n",
       "      <td>710</td>\n",
       "      <td>GET /drupal7/ HTTP/1.1</td>\n",
       "    </tr>\n",
       "    <tr>\n",
       "      <th>31192</th>\n",
       "      <td>31193</td>\n",
       "      <td>2010-06-12 06:54:06,585868</td>\n",
       "      <td>192.168.56.1</td>\n",
       "      <td>75.127.97.72</td>\n",
       "      <td>HTTP</td>\n",
       "      <td>749</td>\n",
       "      <td>GET /drupal7/sites/default/files/styles/medium...</td>\n",
       "    </tr>\n",
       "    <tr>\n",
       "      <th>31203</th>\n",
       "      <td>31204</td>\n",
       "      <td>2010-06-12 06:54:06,586953</td>\n",
       "      <td>192.168.56.1</td>\n",
       "      <td>75.127.97.72</td>\n",
       "      <td>HTTP</td>\n",
       "      <td>734</td>\n",
       "      <td>GET /drupal7/sites/default/files/styles/medium...</td>\n",
       "    </tr>\n",
       "    <tr>\n",
       "      <th>31206</th>\n",
       "      <td>31207</td>\n",
       "      <td>2010-06-12 06:54:06,587263</td>\n",
       "      <td>192.168.56.1</td>\n",
       "      <td>75.127.97.72</td>\n",
       "      <td>HTTP</td>\n",
       "      <td>733</td>\n",
       "      <td>GET /drupal7/sites/default/files/styles/medium...</td>\n",
       "    </tr>\n",
       "    <tr>\n",
       "      <th>31208</th>\n",
       "      <td>31209</td>\n",
       "      <td>2010-06-12 06:54:06,587412</td>\n",
       "      <td>192.168.56.1</td>\n",
       "      <td>75.127.97.72</td>\n",
       "      <td>HTTP</td>\n",
       "      <td>684</td>\n",
       "      <td>GET /drupal7/misc/feed.png HTTP/1.1</td>\n",
       "    </tr>\n",
       "  </tbody>\n",
       "</table>\n",
       "</div>"
      ],
      "text/plain": [
       "         No.                        Time        Source   Destination Protocol  \\\n",
       "31176  31177  2010-06-12 06:54:06,348044  192.168.56.1  75.127.97.72     HTTP   \n",
       "31192  31193  2010-06-12 06:54:06,585868  192.168.56.1  75.127.97.72     HTTP   \n",
       "31203  31204  2010-06-12 06:54:06,586953  192.168.56.1  75.127.97.72     HTTP   \n",
       "31206  31207  2010-06-12 06:54:06,587263  192.168.56.1  75.127.97.72     HTTP   \n",
       "31208  31209  2010-06-12 06:54:06,587412  192.168.56.1  75.127.97.72     HTTP   \n",
       "\n",
       "       Length                                               Info  \n",
       "31176     710                            GET /drupal7/ HTTP/1.1   \n",
       "31192     749  GET /drupal7/sites/default/files/styles/medium...  \n",
       "31203     734  GET /drupal7/sites/default/files/styles/medium...  \n",
       "31206     733  GET /drupal7/sites/default/files/styles/medium...  \n",
       "31208     684               GET /drupal7/misc/feed.png HTTP/1.1   "
      ]
     },
     "execution_count": 5,
     "metadata": {},
     "output_type": "execute_result"
    }
   ],
   "source": [
    "protocol=dest[dest.Protocol==\"HTTP\"]\n",
    "protocol.head()"
   ]
  },
  {
   "cell_type": "code",
   "execution_count": 6,
   "metadata": {},
   "outputs": [
    {
     "data": {
      "text/plain": [
       "31173    52998  >  80 [SYN] Seq=0 Win=29200 Len=0 MSS=1...\n",
       "31175    52998  >  80 [ACK] Seq=1 Ack=1 Win=29696 Len=0...\n",
       "31176                              GET /drupal7/ HTTP/1.1 \n",
       "31184    52998  >  80 [ACK] Seq=645 Ack=4345 Win=37888 ...\n",
       "31186    52998  >  80 [ACK] Seq=645 Ack=4444 Win=37888 ...\n",
       "Name: Info, dtype: object"
      ]
     },
     "execution_count": 6,
     "metadata": {},
     "output_type": "execute_result"
    }
   ],
   "source": [
    "dest.Protocol.value_counts()\n",
    "dest.Info[0:5]"
   ]
  },
  {
   "cell_type": "code",
   "execution_count": 8,
   "metadata": {
    "scrolled": true
   },
   "outputs": [],
   "source": [
    "trace1=go.Scatter(x=dest['Time'],y=dest['Length'],mode='markers')\n",
    "d = dest.query('(Length>300)&(Length<600)')\n",
    "trace2=go.Scatter(x=d['Time'],y=d['Length'], mode='lines')\n",
    "data=[trace1, trace2]\n",
    "py.iplot(data)"
   ]
  },
  {
   "cell_type": "code",
   "execution_count": 9,
   "metadata": {},
   "outputs": [],
   "source": [
    "from sklearn import linear_model"
   ]
  },
  {
   "cell_type": "code",
   "execution_count": null,
   "metadata": {
    "scrolled": true
   },
   "outputs": [],
   "source": [
    "X = df\n",
    "\n",
    "# Treat the problem as a pure classification problem.\n",
    "\n",
    "X['Protocol'] = X['Protocol'].astype('category')\n",
    "# Could use float, but it doesn't make much sense\n",
    "#X['Source'] = X['Source'].apply(lambda x: float(x.replace('.','')))\n",
    "\n",
    "# Convert IPs to classes\n",
    "X['Destination'] = X['Destination'].astype('category')\n",
    "X['Source'] = X['Source'].astype('category')\n",
    "\n",
    "# Convert info to classes as well\n",
    "X['Info'] = X['Info'].astype('category')  # ToDo split info in relevant columns\n",
    "\n",
    "# Drop the time series for now, just to play with a classifier\n",
    "X = X.drop(['Time'], axis=1)"
   ]
  },
  {
   "cell_type": "code",
   "execution_count": null,
   "metadata": {},
   "outputs": [],
   "source": [
    "# Set some entries as 1 'attack' and 0 no attack\n",
    "# The ones you defined in d above, are entries where an attack was plausible. Everything else is clean\n",
    "Y = [0 if i not in d.index.values else 1 for i in df.index.values]"
   ]
  },
  {
   "cell_type": "code",
   "execution_count": null,
   "metadata": {},
   "outputs": [],
   "source": [
    "catColumns = X.select_dtypes(['category']).columns\n",
    "X[catColumns] = X[catColumns].apply(lambda x: x.cat.codes)"
   ]
  },
  {
   "cell_type": "code",
   "execution_count": null,
   "metadata": {},
   "outputs": [],
   "source": [
    "clf = linear_model.SGDClassifier(max_iter=1000, tol=1e-3)\n",
    "clf.fit(X, Y)"
   ]
  },
  {
   "cell_type": "code",
   "execution_count": null,
   "metadata": {},
   "outputs": [],
   "source": [
    "# ## TODO\n",
    "\n",
    "# df = pd.read_csv('second_attack.csv')\n",
    "\n",
    "# X_test = df\n",
    "\n",
    "# ## apply transformation methods as above\n",
    "\n",
    "# pred = clf.predict(X_test)"
   ]
  },
  {
   "cell_type": "code",
   "execution_count": null,
   "metadata": {},
   "outputs": [],
   "source": [
    "## TODO\n",
    "## Compute 'd' the same way you computed it in the first case\n",
    "## Plot d + pred\n",
    "## Compare overalp between d and pred"
   ]
  },
  {
   "cell_type": "code",
   "execution_count": 10,
   "metadata": {
    "scrolled": true
   },
   "outputs": [
    {
     "data": {
      "text/html": [
       "<div>\n",
       "<style scoped>\n",
       "    .dataframe tbody tr th:only-of-type {\n",
       "        vertical-align: middle;\n",
       "    }\n",
       "\n",
       "    .dataframe tbody tr th {\n",
       "        vertical-align: top;\n",
       "    }\n",
       "\n",
       "    .dataframe thead th {\n",
       "        text-align: right;\n",
       "    }\n",
       "</style>\n",
       "<table border=\"1\" class=\"dataframe\">\n",
       "  <thead>\n",
       "    <tr style=\"text-align: right;\">\n",
       "      <th></th>\n",
       "      <th></th>\n",
       "      <th>No.</th>\n",
       "    </tr>\n",
       "    <tr>\n",
       "      <th>Source</th>\n",
       "      <th>Destination</th>\n",
       "      <th></th>\n",
       "    </tr>\n",
       "  </thead>\n",
       "  <tbody>\n",
       "    <tr>\n",
       "      <th>74.63.40.21</th>\n",
       "      <th>192.168.4.120</th>\n",
       "      <td>5735</td>\n",
       "    </tr>\n",
       "    <tr>\n",
       "      <th>192.168.56.1</th>\n",
       "      <th>75.127.97.72</th>\n",
       "      <td>4719</td>\n",
       "    </tr>\n",
       "    <tr>\n",
       "      <th>75.127.97.72</th>\n",
       "      <th>192.168.56.1</th>\n",
       "      <td>4218</td>\n",
       "    </tr>\n",
       "    <tr>\n",
       "      <th>174.133.126.130</th>\n",
       "      <th>192.168.4.120</th>\n",
       "      <td>3747</td>\n",
       "    </tr>\n",
       "    <tr>\n",
       "      <th>192.168.4.120</th>\n",
       "      <th>74.63.40.21</th>\n",
       "      <td>3170</td>\n",
       "    </tr>\n",
       "  </tbody>\n",
       "</table>\n",
       "</div>"
      ],
      "text/plain": [
       "                                No.\n",
       "Source          Destination        \n",
       "74.63.40.21     192.168.4.120  5735\n",
       "192.168.56.1    75.127.97.72   4719\n",
       "75.127.97.72    192.168.56.1   4218\n",
       "174.133.126.130 192.168.4.120  3747\n",
       "192.168.4.120   74.63.40.21    3170"
      ]
     },
     "execution_count": 10,
     "metadata": {},
     "output_type": "execute_result"
    }
   ],
   "source": [
    "# 1. Pot sa filtrez dupa 2 campuri? \n",
    "# Vreau spre exemplu sa vad cele mai multe conexiuni intre 2 IP-uri, \n",
    "# dar as vrea sa vad un top, o sortare facuta initial. \n",
    "# Nu cunosc care sunt IP-urile care au discutat cel mai mult. \n",
    "# Pot sa sortez dupa IP-ul destinatie sau sursa, \n",
    "# dar as vrea o sortare facuta dupa numarul de conexiuni intre 2 IP-uri.\n",
    "\n",
    "df['Destination'] = df['Destination'].astype('str')\n",
    "df['Source'] = df['Source'].astype('str')\n",
    "\n",
    "# # Dureaza un pic pentru tot datasetul.\n",
    "sourceDict = { sourceIp: df[df.Source == sourceIp]['No.'].count() for sourceIp in df.Source[0:10]}\n",
    "\n",
    "# Poti mai eficient\n",
    "df.drop(['Time', 'Protocol', 'Length', 'Info'], axis=1)\\\n",
    "            .groupby([\"Source\", 'Destination']) \\\n",
    "            .count() \\\n",
    "            .sort_values(['No.'], ascending=False)\\\n",
    "            .head()"
   ]
  },
  {
   "cell_type": "code",
   "execution_count": 11,
   "metadata": {},
   "outputs": [
    {
     "data": {
      "text/html": [
       "<div>\n",
       "<style scoped>\n",
       "    .dataframe tbody tr th:only-of-type {\n",
       "        vertical-align: middle;\n",
       "    }\n",
       "\n",
       "    .dataframe tbody tr th {\n",
       "        vertical-align: top;\n",
       "    }\n",
       "\n",
       "    .dataframe thead th {\n",
       "        text-align: right;\n",
       "    }\n",
       "</style>\n",
       "<table border=\"1\" class=\"dataframe\">\n",
       "  <thead>\n",
       "    <tr style=\"text-align: right;\">\n",
       "      <th></th>\n",
       "      <th>No.</th>\n",
       "      <th>Time</th>\n",
       "      <th>Source</th>\n",
       "      <th>Destination</th>\n",
       "      <th>Protocol</th>\n",
       "      <th>Length</th>\n",
       "      <th>Info</th>\n",
       "    </tr>\n",
       "  </thead>\n",
       "  <tbody>\n",
       "    <tr>\n",
       "      <th>4</th>\n",
       "      <td>5</td>\n",
       "      <td>2010-06-12 06:50:00,064234</td>\n",
       "      <td>192.168.4.120</td>\n",
       "      <td>208.122.28.10</td>\n",
       "      <td>HTTP</td>\n",
       "      <td>140</td>\n",
       "      <td>GET /profile_images/159516/rollinsliar_small.j...</td>\n",
       "    </tr>\n",
       "    <tr>\n",
       "      <th>6</th>\n",
       "      <td>7</td>\n",
       "      <td>2010-06-12 06:50:00,066804</td>\n",
       "      <td>192.168.4.120</td>\n",
       "      <td>88.208.248.162</td>\n",
       "      <td>HTTP</td>\n",
       "      <td>245</td>\n",
       "      <td>GET /Car-Products/Bike-Racks/Bike-Racks-Thule-...</td>\n",
       "    </tr>\n",
       "    <tr>\n",
       "      <th>10</th>\n",
       "      <td>11</td>\n",
       "      <td>2010-06-12 06:50:00,092368</td>\n",
       "      <td>192.168.2.110</td>\n",
       "      <td>67.220.214.50</td>\n",
       "      <td>HTTP</td>\n",
       "      <td>112</td>\n",
       "      <td>GET /images/rss2.gif HTTP/1.1</td>\n",
       "    </tr>\n",
       "    <tr>\n",
       "      <th>12</th>\n",
       "      <td>13</td>\n",
       "      <td>2010-06-12 06:50:00,121749</td>\n",
       "      <td>192.168.4.120</td>\n",
       "      <td>208.122.28.2</td>\n",
       "      <td>HTTP</td>\n",
       "      <td>149</td>\n",
       "      <td>GET /profile_images/228715/Logo_Baseball_Canad...</td>\n",
       "    </tr>\n",
       "    <tr>\n",
       "      <th>18</th>\n",
       "      <td>19</td>\n",
       "      <td>2010-06-12 06:50:00,180490</td>\n",
       "      <td>192.168.4.120</td>\n",
       "      <td>208.122.28.4</td>\n",
       "      <td>HTTP</td>\n",
       "      <td>143</td>\n",
       "      <td>GET /profile_images/259115/discrimination_smal...</td>\n",
       "    </tr>\n",
       "  </tbody>\n",
       "</table>\n",
       "</div>"
      ],
      "text/plain": [
       "    No.                        Time         Source     Destination Protocol  \\\n",
       "4     5  2010-06-12 06:50:00,064234  192.168.4.120   208.122.28.10     HTTP   \n",
       "6     7  2010-06-12 06:50:00,066804  192.168.4.120  88.208.248.162     HTTP   \n",
       "10   11  2010-06-12 06:50:00,092368  192.168.2.110   67.220.214.50     HTTP   \n",
       "12   13  2010-06-12 06:50:00,121749  192.168.4.120    208.122.28.2     HTTP   \n",
       "18   19  2010-06-12 06:50:00,180490  192.168.4.120    208.122.28.4     HTTP   \n",
       "\n",
       "    Length                                               Info  \n",
       "4      140  GET /profile_images/159516/rollinsliar_small.j...  \n",
       "6      245  GET /Car-Products/Bike-Racks/Bike-Racks-Thule-...  \n",
       "10     112                     GET /images/rss2.gif HTTP/1.1   \n",
       "12     149  GET /profile_images/228715/Logo_Baseball_Canad...  \n",
       "18     143  GET /profile_images/259115/discrimination_smal...  "
      ]
     },
     "execution_count": 11,
     "metadata": {},
     "output_type": "execute_result"
    }
   ],
   "source": [
    "# 2. In coloana de info sunt mai multe detalii. \n",
    "# As putea cumva sa accesez continutul acelei coloane? \n",
    "# Spre exemplu vreau sa vad doar requesturile (GET) si \n",
    "# nu si (ACK sau RST etc). Sa pot parsa, sau asta ar \n",
    "# trebui facut inainte de a salva captura ca .csv?\n",
    "\n",
    "df['Info'] = df['Info'].astype('str')\n",
    "\n",
    "# Poti sa faci ce operatie vrei tu pe fiecare rand, dupa ce faci cast to string la coloana\n",
    "df[df['Info'].str.contains('GET')].head()"
   ]
  },
  {
   "cell_type": "code",
   "execution_count": null,
   "metadata": {},
   "outputs": [],
   "source": []
  }
 ],
 "metadata": {
  "kernelspec": {
   "display_name": "Python 3",
   "language": "python",
   "name": "python3"
  },
  "language_info": {
   "codemirror_mode": {
    "name": "ipython",
    "version": 3
   },
   "file_extension": ".py",
   "mimetype": "text/x-python",
   "name": "python",
   "nbconvert_exporter": "python",
   "pygments_lexer": "ipython3",
   "version": "3.5.5"
  }
 },
 "nbformat": 4,
 "nbformat_minor": 2
}
