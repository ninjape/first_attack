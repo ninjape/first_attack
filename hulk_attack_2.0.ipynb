{
 "cells": [
  {
   "cell_type": "code",
   "execution_count": 1,
   "metadata": {
    "scrolled": true
   },
   "outputs": [],
   "source": [
    "import plotly.plotly as py\n",
    "import plotly.graph_objs as go\n",
    "import plotly.figure_factory as FF\n",
    "import plotly\n",
    "plotly.tools.set_credentials_file(username='ninjamouse', api_key='LejqbK7NWhPU7zXoMuhw')\n",
    "\n",
    "import numpy as np\n",
    "import pandas as pd\n",
    "\n",
    "df1 = pd.read_csv('09_attack_delta_time.csv')"
   ]
  },
  {
   "cell_type": "code",
   "execution_count": 2,
   "metadata": {
    "scrolled": true
   },
   "outputs": [],
   "source": [
    "df2 = pd.read_csv(\"18_attack_delta_time.csv\")"
   ]
  },
  {
   "cell_type": "code",
   "execution_count": 3,
   "metadata": {},
   "outputs": [],
   "source": [
    "df_concat = pd.concat([df1, df2])"
   ]
  },
  {
   "cell_type": "code",
   "execution_count": 4,
   "metadata": {
    "scrolled": true
   },
   "outputs": [
    {
     "data": {
      "text/html": [
       "<div>\n",
       "<style scoped>\n",
       "    .dataframe tbody tr th:only-of-type {\n",
       "        vertical-align: middle;\n",
       "    }\n",
       "\n",
       "    .dataframe tbody tr th {\n",
       "        vertical-align: top;\n",
       "    }\n",
       "\n",
       "    .dataframe thead th {\n",
       "        text-align: right;\n",
       "    }\n",
       "</style>\n",
       "<table border=\"1\" class=\"dataframe\">\n",
       "  <thead>\n",
       "    <tr style=\"text-align: right;\">\n",
       "      <th></th>\n",
       "      <th></th>\n",
       "      <th>No.</th>\n",
       "    </tr>\n",
       "    <tr>\n",
       "      <th>Source</th>\n",
       "      <th>Destination</th>\n",
       "      <th></th>\n",
       "    </tr>\n",
       "  </thead>\n",
       "  <tbody>\n",
       "    <tr>\n",
       "      <th rowspan=\"2\" valign=\"top\">192.168.56.1</th>\n",
       "      <th>74.55.1.4</th>\n",
       "      <td>6066</td>\n",
       "    </tr>\n",
       "    <tr>\n",
       "      <th>69.84.133.138</th>\n",
       "      <td>5927</td>\n",
       "    </tr>\n",
       "    <tr>\n",
       "      <th>74.55.1.4</th>\n",
       "      <th>192.168.56.1</th>\n",
       "      <td>2378</td>\n",
       "    </tr>\n",
       "    <tr>\n",
       "      <th>69.84.133.138</th>\n",
       "      <th>192.168.56.1</th>\n",
       "      <td>2239</td>\n",
       "    </tr>\n",
       "    <tr>\n",
       "      <th>68.178.178.97</th>\n",
       "      <th>192.168.2.112</th>\n",
       "      <td>796</td>\n",
       "    </tr>\n",
       "  </tbody>\n",
       "</table>\n",
       "</div>"
      ],
      "text/plain": [
       "                              No.\n",
       "Source        Destination        \n",
       "192.168.56.1  74.55.1.4      6066\n",
       "              69.84.133.138  5927\n",
       "74.55.1.4     192.168.56.1   2378\n",
       "69.84.133.138 192.168.56.1   2239\n",
       "68.178.178.97 192.168.2.112   796"
      ]
     },
     "execution_count": 4,
     "metadata": {},
     "output_type": "execute_result"
    }
   ],
   "source": [
    "#df.sort_values(['Source', 'Destination'],  ascending=[True, False]  )\n",
    "#df['Info'] = df['Info'].astype('str')\n",
    "#get=df[df['Info'].str.contains('GET')]\n",
    "\n",
    "\n",
    "#Sort the connections based on the pair Source-->Destination\n",
    "#Select all the connections that have Source IP and Destination IP with 75.127.97.72\n",
    "df_concat.drop(['Time','Delta time','Source Port','Destination Port', 'Protocol', 'Length', 'Info'], axis=1)\\\n",
    "            .groupby([\"Source\", 'Destination']) \\\n",
    "            .count() \\\n",
    "            .sort_values(['No.'], ascending=False)\\\n",
    "            .head()"
   ]
  },
  {
   "cell_type": "code",
   "execution_count": 5,
   "metadata": {},
   "outputs": [
    {
     "data": {
      "text/html": [
       "<div>\n",
       "<style scoped>\n",
       "    .dataframe tbody tr th:only-of-type {\n",
       "        vertical-align: middle;\n",
       "    }\n",
       "\n",
       "    .dataframe tbody tr th {\n",
       "        vertical-align: top;\n",
       "    }\n",
       "\n",
       "    .dataframe thead th {\n",
       "        text-align: right;\n",
       "    }\n",
       "</style>\n",
       "<table border=\"1\" class=\"dataframe\">\n",
       "  <thead>\n",
       "    <tr style=\"text-align: right;\">\n",
       "      <th></th>\n",
       "      <th></th>\n",
       "      <th>No.</th>\n",
       "    </tr>\n",
       "    <tr>\n",
       "      <th>Source</th>\n",
       "      <th>Destination</th>\n",
       "      <th></th>\n",
       "    </tr>\n",
       "  </thead>\n",
       "  <tbody>\n",
       "    <tr>\n",
       "      <th rowspan=\"2\" valign=\"top\">192.168.56.1</th>\n",
       "      <th>74.55.1.4</th>\n",
       "      <td>6066</td>\n",
       "    </tr>\n",
       "    <tr>\n",
       "      <th>69.84.133.138</th>\n",
       "      <td>5927</td>\n",
       "    </tr>\n",
       "    <tr>\n",
       "      <th>192.168.2.110</th>\n",
       "      <th>69.84.133.138</th>\n",
       "      <td>52</td>\n",
       "    </tr>\n",
       "    <tr>\n",
       "      <th>192.168.1.101</th>\n",
       "      <th>74.55.1.4</th>\n",
       "      <td>23</td>\n",
       "    </tr>\n",
       "  </tbody>\n",
       "</table>\n",
       "</div>"
      ],
      "text/plain": [
       "                              No.\n",
       "Source        Destination        \n",
       "192.168.56.1  74.55.1.4      6066\n",
       "              69.84.133.138  5927\n",
       "192.168.2.110 69.84.133.138    52\n",
       "192.168.1.101 74.55.1.4        23"
      ]
     },
     "execution_count": 5,
     "metadata": {},
     "output_type": "execute_result"
    }
   ],
   "source": [
    "filter_ip = ['69.84.133.138','74.55.1.4' ]\n",
    "#d_concat=df_concat[(df_concat.Destination=='69.84.133.138') or (df_concat.Destination=='74.55.1.4')]\n",
    "#\n",
    "d_concat =df_concat[df_concat.Destination.isin(filter_ip)]\n",
    "d_concat.drop(['Time','Delta time','Source Port','Destination Port', 'Protocol', 'Length', 'Info'], axis=1)\\\n",
    "            .groupby([\"Source\", 'Destination']) \\\n",
    "            .count() \\\n",
    "            .sort_values(['No.'], ascending=False)\\\n",
    "            .head()"
   ]
  },
  {
   "cell_type": "code",
   "execution_count": 6,
   "metadata": {},
   "outputs": [],
   "source": [
    "#convert Info into string\n",
    "#filter packets with TCP SYN\n",
    "d_concat['Info'] = d_concat['Info'].astype('str')\n",
    "d_concat=d_concat[d_concat['Info'].str.contains('SYN')]"
   ]
  },
  {
   "cell_type": "code",
   "execution_count": 7,
   "metadata": {
    "scrolled": true
   },
   "outputs": [
    {
     "name": "stdout",
     "output_type": "stream",
     "text": [
      "The draw time for this plot will be slow for clients without much RAM.\n"
     ]
    },
    {
     "name": "stderr",
     "output_type": "stream",
     "text": [
      "/home/deeplearning/anaconda3/lib/python3.7/site-packages/plotly/api/v1/clientresp.py:40: UserWarning:\n",
      "\n",
      "Estimated Draw Time Slow\n",
      "\n",
      "/home/deeplearning/anaconda3/lib/python3.7/site-packages/IPython/core/display.py:689: UserWarning:\n",
      "\n",
      "Consider using IPython.display.IFrame instead\n",
      "\n"
     ]
    },
    {
     "data": {
      "text/html": [
       "<iframe id=\"igraph\" scrolling=\"no\" style=\"border:none;\" seamless=\"seamless\" src=\"https://plot.ly/~ninjamouse/144.embed\" height=\"525px\" width=\"100%\"></iframe>"
      ],
      "text/plain": [
       "<plotly.tools.PlotlyDisplay object>"
      ]
     },
     "execution_count": 7,
     "metadata": {},
     "output_type": "execute_result"
    }
   ],
   "source": [
    "#Display packets with IP filtered\n",
    "trace1=go.Scatter(x=df_concat['Time'],y=df_concat['Length'],mode='markers', name='Original dataframe')\n",
    "#l=df.query('(Length>10000)')\n",
    "trace2=go.Scatter(x=d_concat['Time'],y=d_concat['Length']*10, mode='markers', name='Filtered by IP and SYN')\n",
    "data=[trace1, trace2]\n",
    "py.iplot(data, filename='trace 1')"
   ]
  },
  {
   "cell_type": "code",
   "execution_count": 8,
   "metadata": {},
   "outputs": [],
   "source": [
    "from sklearn import linear_model"
   ]
  },
  {
   "cell_type": "code",
   "execution_count": 9,
   "metadata": {},
   "outputs": [
    {
     "data": {
      "text/html": [
       "<div>\n",
       "<style scoped>\n",
       "    .dataframe tbody tr th:only-of-type {\n",
       "        vertical-align: middle;\n",
       "    }\n",
       "\n",
       "    .dataframe tbody tr th {\n",
       "        vertical-align: top;\n",
       "    }\n",
       "\n",
       "    .dataframe thead th {\n",
       "        text-align: right;\n",
       "    }\n",
       "</style>\n",
       "<table border=\"1\" class=\"dataframe\">\n",
       "  <thead>\n",
       "    <tr style=\"text-align: right;\">\n",
       "      <th></th>\n",
       "      <th>No.</th>\n",
       "      <th>Source</th>\n",
       "      <th>Source Port</th>\n",
       "      <th>Destination</th>\n",
       "      <th>Protocol</th>\n",
       "      <th>Destination Port</th>\n",
       "      <th>Length</th>\n",
       "      <th>Info</th>\n",
       "    </tr>\n",
       "  </thead>\n",
       "  <tbody>\n",
       "    <tr>\n",
       "      <th>0</th>\n",
       "      <td>1</td>\n",
       "      <td>192.168.2.106</td>\n",
       "      <td>3595.0</td>\n",
       "      <td>205.234.175.175</td>\n",
       "      <td>TCP</td>\n",
       "      <td>80.0</td>\n",
       "      <td>60</td>\n",
       "      <td>3595  &gt;  80 [FIN, ACK] Seq=1 Ack=1 Win=17520 L...</td>\n",
       "    </tr>\n",
       "    <tr>\n",
       "      <th>1</th>\n",
       "      <td>2</td>\n",
       "      <td>192.168.1.104</td>\n",
       "      <td>17053.0</td>\n",
       "      <td>192.150.8.118</td>\n",
       "      <td>TCP</td>\n",
       "      <td>80.0</td>\n",
       "      <td>60</td>\n",
       "      <td>17053  &gt;  80 [FIN, ACK] Seq=1 Ack=1 Win=17520 ...</td>\n",
       "    </tr>\n",
       "    <tr>\n",
       "      <th>2</th>\n",
       "      <td>3</td>\n",
       "      <td>192.168.1.104</td>\n",
       "      <td>17057.0</td>\n",
       "      <td>192.150.18.200</td>\n",
       "      <td>TCP</td>\n",
       "      <td>80.0</td>\n",
       "      <td>60</td>\n",
       "      <td>17057  &gt;  80 [FIN, ACK] Seq=1 Ack=1 Win=16298 ...</td>\n",
       "    </tr>\n",
       "    <tr>\n",
       "      <th>3</th>\n",
       "      <td>4</td>\n",
       "      <td>192.168.2.113</td>\n",
       "      <td>1302.0</td>\n",
       "      <td>63.245.209.72</td>\n",
       "      <td>TCP</td>\n",
       "      <td>443.0</td>\n",
       "      <td>60</td>\n",
       "      <td>1302  &gt;  443 [FIN, ACK] Seq=1 Ack=1 Win=64059 ...</td>\n",
       "    </tr>\n",
       "    <tr>\n",
       "      <th>4</th>\n",
       "      <td>5</td>\n",
       "      <td>192.168.2.110</td>\n",
       "      <td>2247.0</td>\n",
       "      <td>72.21.91.19</td>\n",
       "      <td>TCP</td>\n",
       "      <td>80.0</td>\n",
       "      <td>60</td>\n",
       "      <td>2247  &gt;  80 [FIN, ACK] Seq=1 Ack=1 Win=63040 L...</td>\n",
       "    </tr>\n",
       "  </tbody>\n",
       "</table>\n",
       "</div>"
      ],
      "text/plain": [
       "   No.         Source Source Port      Destination Protocol Destination Port  \\\n",
       "0    1  192.168.2.106      3595.0  205.234.175.175      TCP             80.0   \n",
       "1    2  192.168.1.104     17053.0    192.150.8.118      TCP             80.0   \n",
       "2    3  192.168.1.104     17057.0   192.150.18.200      TCP             80.0   \n",
       "3    4  192.168.2.113      1302.0    63.245.209.72      TCP            443.0   \n",
       "4    5  192.168.2.110      2247.0      72.21.91.19      TCP             80.0   \n",
       "\n",
       "   Length                                               Info  \n",
       "0      60  3595  >  80 [FIN, ACK] Seq=1 Ack=1 Win=17520 L...  \n",
       "1      60  17053  >  80 [FIN, ACK] Seq=1 Ack=1 Win=17520 ...  \n",
       "2      60  17057  >  80 [FIN, ACK] Seq=1 Ack=1 Win=16298 ...  \n",
       "3      60  1302  >  443 [FIN, ACK] Seq=1 Ack=1 Win=64059 ...  \n",
       "4      60  2247  >  80 [FIN, ACK] Seq=1 Ack=1 Win=63040 L...  "
      ]
     },
     "execution_count": 9,
     "metadata": {},
     "output_type": "execute_result"
    }
   ],
   "source": [
    "X = df_concat\n",
    "\n",
    "# Treat the problem as a pure classification problem.\n",
    "\n",
    "X['Protocol'] = X['Protocol'].astype('category')\n",
    "# Could use float, but it doesn't make much sense\n",
    "#X['Source'] = X['Source'].apply(lambda x: float(x.replace('.','')))\n",
    "\n",
    "# Convert IPs to classes\n",
    "X['Destination'] = X['Destination'].astype('category')\n",
    "X['Source'] = X['Source'].astype('category')\n",
    "X['Source Port'] = X['Source Port'].astype('category')\n",
    "X['Destination Port'] = X['Destination Port'].astype('category')\n",
    "# Convert info to classes as well\n",
    "X['Info'] = X['Info'].astype('category')  # ToDo split info in relevant columns\n",
    "#X['Destination Port'] = X['Destination Port'].astype('64bit')\n",
    "# Drop the time series for now, just to play with a classifier\n",
    "X = X.drop(['Time', 'Delta time'], axis=1)\n",
    "X.head()"
   ]
  },
  {
   "cell_type": "code",
   "execution_count": 10,
   "metadata": {},
   "outputs": [],
   "source": [
    "# Set some entries as 1 'attack' and 0 no attack\n",
    "# The ones you defined in d above, are entries where an attack was plausible. Everything else is clean\n",
    "Y = [0 if i not in d_concat.index.values else 1 for i in df_concat.index.values]"
   ]
  },
  {
   "cell_type": "code",
   "execution_count": 11,
   "metadata": {},
   "outputs": [],
   "source": [
    "#Verify Y in not all zeros(0)\n",
    "# for i in Y:\n",
    "#     if i!=0:\n",
    "#        print(i)"
   ]
  },
  {
   "cell_type": "code",
   "execution_count": 12,
   "metadata": {},
   "outputs": [
    {
     "data": {
      "text/html": [
       "<div>\n",
       "<style scoped>\n",
       "    .dataframe tbody tr th:only-of-type {\n",
       "        vertical-align: middle;\n",
       "    }\n",
       "\n",
       "    .dataframe tbody tr th {\n",
       "        vertical-align: top;\n",
       "    }\n",
       "\n",
       "    .dataframe thead th {\n",
       "        text-align: right;\n",
       "    }\n",
       "</style>\n",
       "<table border=\"1\" class=\"dataframe\">\n",
       "  <thead>\n",
       "    <tr style=\"text-align: right;\">\n",
       "      <th></th>\n",
       "      <th>No.</th>\n",
       "      <th>Source</th>\n",
       "      <th>Source Port</th>\n",
       "      <th>Destination</th>\n",
       "      <th>Protocol</th>\n",
       "      <th>Destination Port</th>\n",
       "      <th>Length</th>\n",
       "      <th>Info</th>\n",
       "    </tr>\n",
       "  </thead>\n",
       "  <tbody>\n",
       "    <tr>\n",
       "      <th>0</th>\n",
       "      <td>1</td>\n",
       "      <td>26</td>\n",
       "      <td>227</td>\n",
       "      <td>63</td>\n",
       "      <td>19</td>\n",
       "      <td>6</td>\n",
       "      <td>60</td>\n",
       "      <td>3493</td>\n",
       "    </tr>\n",
       "    <tr>\n",
       "      <th>1</th>\n",
       "      <td>2</td>\n",
       "      <td>24</td>\n",
       "      <td>381</td>\n",
       "      <td>19</td>\n",
       "      <td>19</td>\n",
       "      <td>6</td>\n",
       "      <td>60</td>\n",
       "      <td>913</td>\n",
       "    </tr>\n",
       "    <tr>\n",
       "      <th>2</th>\n",
       "      <td>3</td>\n",
       "      <td>24</td>\n",
       "      <td>382</td>\n",
       "      <td>17</td>\n",
       "      <td>19</td>\n",
       "      <td>6</td>\n",
       "      <td>60</td>\n",
       "      <td>914</td>\n",
       "    </tr>\n",
       "    <tr>\n",
       "      <th>3</th>\n",
       "      <td>4</td>\n",
       "      <td>33</td>\n",
       "      <td>38</td>\n",
       "      <td>99</td>\n",
       "      <td>19</td>\n",
       "      <td>12</td>\n",
       "      <td>60</td>\n",
       "      <td>588</td>\n",
       "    </tr>\n",
       "    <tr>\n",
       "      <th>4</th>\n",
       "      <td>5</td>\n",
       "      <td>30</td>\n",
       "      <td>118</td>\n",
       "      <td>136</td>\n",
       "      <td>19</td>\n",
       "      <td>6</td>\n",
       "      <td>60</td>\n",
       "      <td>2207</td>\n",
       "    </tr>\n",
       "  </tbody>\n",
       "</table>\n",
       "</div>"
      ],
      "text/plain": [
       "   No.  Source  Source Port  Destination  Protocol  Destination Port  Length  \\\n",
       "0    1      26          227           63        19                 6      60   \n",
       "1    2      24          381           19        19                 6      60   \n",
       "2    3      24          382           17        19                 6      60   \n",
       "3    4      33           38           99        19                12      60   \n",
       "4    5      30          118          136        19                 6      60   \n",
       "\n",
       "   Info  \n",
       "0  3493  \n",
       "1   913  \n",
       "2   914  \n",
       "3   588  \n",
       "4  2207  "
      ]
     },
     "execution_count": 12,
     "metadata": {},
     "output_type": "execute_result"
    }
   ],
   "source": [
    "#1. Aici ce facem? Pentru fiecare valoare este asignata nu cod?\n",
    "## Transformam toate coloanele care nu sunt numerice, in valori numerice.\n",
    "## De exemplu, pentru coloana Protocol ai valori 'HTTP' si 'TCP'. Matematic e greu sa le analizezi\n",
    "## daca nu sunt in format numeric. Asa ca functia lambda de mai jos iti transforma\n",
    "## toate valorile 'HTTP' in 0 si 'TCP' in 1 (de exemplu). Daca ai mai multe coloane, ai mai multe valori (0,1,2,3..)\n",
    "catColumns = X.select_dtypes(['category']).columns\n",
    "X[catColumns] = X[catColumns].apply(lambda x: x.cat.codes)\n",
    "X.head()"
   ]
  },
  {
   "cell_type": "code",
   "execution_count": 13,
   "metadata": {},
   "outputs": [
    {
     "data": {
      "text/plain": [
       "SGDClassifier(alpha=0.0001, average=False, class_weight=None,\n",
       "       early_stopping=False, epsilon=0.1, eta0=0.0, fit_intercept=True,\n",
       "       l1_ratio=0.15, learning_rate='optimal', loss='hinge', max_iter=1000,\n",
       "       n_iter=None, n_iter_no_change=5, n_jobs=None, penalty='l2',\n",
       "       power_t=0.5, random_state=None, shuffle=True, tol=0.001,\n",
       "       validation_fraction=0.1, verbose=0, warm_start=False)"
      ]
     },
     "execution_count": 13,
     "metadata": {},
     "output_type": "execute_result"
    }
   ],
   "source": [
    "#2. Banuiesc ca aici este aplicat algoritmul de linear regression? Ar trebui sa il inteleg sau doar il aplic si gata?\n",
    "## Aici faci doar partea de model fitting a algoritmului. Pe baza valorilor din X, iti antrenezi modelul ca sa prezica\n",
    "## valorile din Y. Aici calculezi coeficientii cei mai potriviti din formula liniara care iti satisfac cel mai bine\n",
    "## X = Y\n",
    "## sau mai in detaliu, ai avea \n",
    "## coef_Source * X['Source'] + coef_Destination * X['Destination'] + .. + coef_Info * X['Info'] = Y\n",
    "## ,pentru fiecare linie din X si linia corespunzatoare din Y\n",
    "\n",
    "clf = linear_model.SGDClassifier(max_iter=1000, tol=1e-3)\n",
    "clf.fit(X, Y)"
   ]
  },
  {
   "cell_type": "code",
   "execution_count": 14,
   "metadata": {},
   "outputs": [
    {
     "data": {
      "text/html": [
       "<div>\n",
       "<style scoped>\n",
       "    .dataframe tbody tr th:only-of-type {\n",
       "        vertical-align: middle;\n",
       "    }\n",
       "\n",
       "    .dataframe tbody tr th {\n",
       "        vertical-align: top;\n",
       "    }\n",
       "\n",
       "    .dataframe thead th {\n",
       "        text-align: right;\n",
       "    }\n",
       "</style>\n",
       "<table border=\"1\" class=\"dataframe\">\n",
       "  <thead>\n",
       "    <tr style=\"text-align: right;\">\n",
       "      <th></th>\n",
       "      <th>No.</th>\n",
       "      <th>Time</th>\n",
       "      <th>Delta time</th>\n",
       "      <th>Source</th>\n",
       "      <th>Source Port</th>\n",
       "      <th>Destination</th>\n",
       "      <th>Protocol</th>\n",
       "      <th>Destination Port</th>\n",
       "      <th>Length</th>\n",
       "      <th>Info</th>\n",
       "    </tr>\n",
       "  </thead>\n",
       "  <tbody>\n",
       "    <tr>\n",
       "      <th>0</th>\n",
       "      <td>1</td>\n",
       "      <td>2010-06-12 19:46:00,031663</td>\n",
       "      <td>0.000000</td>\n",
       "      <td>62.48.76.70</td>\n",
       "      <td>80.0</td>\n",
       "      <td>192.168.2.110</td>\n",
       "      <td>TCP</td>\n",
       "      <td>3338.0</td>\n",
       "      <td>402</td>\n",
       "      <td>80  &gt;  3338 [PSH, ACK] Seq=1 Ack=1 Win=49680 L...</td>\n",
       "    </tr>\n",
       "    <tr>\n",
       "      <th>1</th>\n",
       "      <td>2</td>\n",
       "      <td>2010-06-12 19:46:00,042818</td>\n",
       "      <td>0.011155</td>\n",
       "      <td>62.48.76.70</td>\n",
       "      <td>80.0</td>\n",
       "      <td>192.168.2.110</td>\n",
       "      <td>TCP</td>\n",
       "      <td>3338.0</td>\n",
       "      <td>1434</td>\n",
       "      <td>80  &gt;  3338 [ACK] Seq=349 Ack=1 Win=49680 Len=...</td>\n",
       "    </tr>\n",
       "    <tr>\n",
       "      <th>2</th>\n",
       "      <td>3</td>\n",
       "      <td>2010-06-12 19:46:00,044008</td>\n",
       "      <td>0.001190</td>\n",
       "      <td>192.168.2.110</td>\n",
       "      <td>3338.0</td>\n",
       "      <td>62.48.76.70</td>\n",
       "      <td>TCP</td>\n",
       "      <td>80.0</td>\n",
       "      <td>60</td>\n",
       "      <td>3338  &gt;  80 [ACK] Seq=1 Ack=1729 Win=64860 Len=0</td>\n",
       "    </tr>\n",
       "    <tr>\n",
       "      <th>3</th>\n",
       "      <td>4</td>\n",
       "      <td>2010-06-12 19:46:00,046592</td>\n",
       "      <td>0.002584</td>\n",
       "      <td>62.48.76.70</td>\n",
       "      <td>80.0</td>\n",
       "      <td>192.168.2.110</td>\n",
       "      <td>TCP</td>\n",
       "      <td>3338.0</td>\n",
       "      <td>1434</td>\n",
       "      <td>80  &gt;  3338 [ACK] Seq=1729 Ack=1 Win=49680 Len...</td>\n",
       "    </tr>\n",
       "    <tr>\n",
       "      <th>4</th>\n",
       "      <td>5</td>\n",
       "      <td>2010-06-12 19:46:00,050334</td>\n",
       "      <td>0.003742</td>\n",
       "      <td>62.48.76.70</td>\n",
       "      <td>80.0</td>\n",
       "      <td>192.168.2.110</td>\n",
       "      <td>TCP</td>\n",
       "      <td>3338.0</td>\n",
       "      <td>1434</td>\n",
       "      <td>80  &gt;  3338 [ACK] Seq=3109 Ack=1 Win=49680 Len...</td>\n",
       "    </tr>\n",
       "  </tbody>\n",
       "</table>\n",
       "</div>"
      ],
      "text/plain": [
       "   No.                        Time  Delta time         Source  Source Port  \\\n",
       "0    1  2010-06-12 19:46:00,031663    0.000000    62.48.76.70         80.0   \n",
       "1    2  2010-06-12 19:46:00,042818    0.011155    62.48.76.70         80.0   \n",
       "2    3  2010-06-12 19:46:00,044008    0.001190  192.168.2.110       3338.0   \n",
       "3    4  2010-06-12 19:46:00,046592    0.002584    62.48.76.70         80.0   \n",
       "4    5  2010-06-12 19:46:00,050334    0.003742    62.48.76.70         80.0   \n",
       "\n",
       "     Destination Protocol  Destination Port  Length  \\\n",
       "0  192.168.2.110      TCP            3338.0     402   \n",
       "1  192.168.2.110      TCP            3338.0    1434   \n",
       "2    62.48.76.70      TCP              80.0      60   \n",
       "3  192.168.2.110      TCP            3338.0    1434   \n",
       "4  192.168.2.110      TCP            3338.0    1434   \n",
       "\n",
       "                                                Info  \n",
       "0  80  >  3338 [PSH, ACK] Seq=1 Ack=1 Win=49680 L...  \n",
       "1  80  >  3338 [ACK] Seq=349 Ack=1 Win=49680 Len=...  \n",
       "2   3338  >  80 [ACK] Seq=1 Ack=1729 Win=64860 Len=0  \n",
       "3  80  >  3338 [ACK] Seq=1729 Ack=1 Win=49680 Len...  \n",
       "4  80  >  3338 [ACK] Seq=3109 Ack=1 Win=49680 Len...  "
      ]
     },
     "execution_count": 14,
     "metadata": {},
     "output_type": "execute_result"
    }
   ],
   "source": [
    "# ## TODO\n",
    "\n",
    "# df = pd.read_csv('second_attack.csv')\n",
    "\n",
    "# X_test = df\n",
    "\n",
    "# ## apply transformation methods as above\n",
    "\n",
    "# pred = clf.predict(X_test)\n",
    "\n",
    "df3 = pd.read_csv('19_attack_delta_time.csv')\n",
    "df3.head()"
   ]
  },
  {
   "cell_type": "code",
   "execution_count": 15,
   "metadata": {},
   "outputs": [
    {
     "data": {
      "text/html": [
       "<div>\n",
       "<style scoped>\n",
       "    .dataframe tbody tr th:only-of-type {\n",
       "        vertical-align: middle;\n",
       "    }\n",
       "\n",
       "    .dataframe tbody tr th {\n",
       "        vertical-align: top;\n",
       "    }\n",
       "\n",
       "    .dataframe thead th {\n",
       "        text-align: right;\n",
       "    }\n",
       "</style>\n",
       "<table border=\"1\" class=\"dataframe\">\n",
       "  <thead>\n",
       "    <tr style=\"text-align: right;\">\n",
       "      <th></th>\n",
       "      <th>No.</th>\n",
       "      <th>Time</th>\n",
       "      <th>Delta time</th>\n",
       "      <th>Source</th>\n",
       "      <th>Source Port</th>\n",
       "      <th>Destination</th>\n",
       "      <th>Protocol</th>\n",
       "      <th>Destination Port</th>\n",
       "      <th>Length</th>\n",
       "      <th>Info</th>\n",
       "    </tr>\n",
       "  </thead>\n",
       "  <tbody>\n",
       "    <tr>\n",
       "      <th>0</th>\n",
       "      <td>1</td>\n",
       "      <td>2010-06-13 01:26:00,332989</td>\n",
       "      <td>0.000000</td>\n",
       "      <td>69.192.24.88</td>\n",
       "      <td>80.0</td>\n",
       "      <td>192.168.56.1</td>\n",
       "      <td>TCP</td>\n",
       "      <td>55216.0</td>\n",
       "      <td>2962</td>\n",
       "      <td>80  &gt;  55216 [ACK] Seq=1 Ack=1 Win=122 Len=289...</td>\n",
       "    </tr>\n",
       "    <tr>\n",
       "      <th>1</th>\n",
       "      <td>2</td>\n",
       "      <td>2010-06-13 01:26:00,333062</td>\n",
       "      <td>0.000073</td>\n",
       "      <td>192.168.56.1</td>\n",
       "      <td>55216.0</td>\n",
       "      <td>69.192.24.88</td>\n",
       "      <td>TCP</td>\n",
       "      <td>80.0</td>\n",
       "      <td>60</td>\n",
       "      <td>55216  &gt;  80 [RST] Seq=1 Win=0 Len=0</td>\n",
       "    </tr>\n",
       "    <tr>\n",
       "      <th>2</th>\n",
       "      <td>3</td>\n",
       "      <td>2010-06-13 01:26:00,333062</td>\n",
       "      <td>0.000000</td>\n",
       "      <td>69.192.24.88</td>\n",
       "      <td>80.0</td>\n",
       "      <td>192.168.56.1</td>\n",
       "      <td>HTTP</td>\n",
       "      <td>55216.0</td>\n",
       "      <td>1294</td>\n",
       "      <td>HTTP/1.1 500 Service unavailable (with message...</td>\n",
       "    </tr>\n",
       "    <tr>\n",
       "      <th>3</th>\n",
       "      <td>4</td>\n",
       "      <td>2010-06-13 01:26:00,333123</td>\n",
       "      <td>0.000061</td>\n",
       "      <td>192.168.56.1</td>\n",
       "      <td>55216.0</td>\n",
       "      <td>69.192.24.88</td>\n",
       "      <td>TCP</td>\n",
       "      <td>80.0</td>\n",
       "      <td>60</td>\n",
       "      <td>55216  &gt;  80 [RST] Seq=1 Win=0 Len=0</td>\n",
       "    </tr>\n",
       "    <tr>\n",
       "      <th>4</th>\n",
       "      <td>5</td>\n",
       "      <td>2010-06-13 01:26:00,337329</td>\n",
       "      <td>0.004206</td>\n",
       "      <td>192.168.56.1</td>\n",
       "      <td>55357.0</td>\n",
       "      <td>69.192.24.88</td>\n",
       "      <td>HTTP</td>\n",
       "      <td>80.0</td>\n",
       "      <td>599</td>\n",
       "      <td>GET /drupal7/?uIhD=PU3cMTarBFX&amp;MUSc2Ei=1xcwRr4...</td>\n",
       "    </tr>\n",
       "  </tbody>\n",
       "</table>\n",
       "</div>"
      ],
      "text/plain": [
       "   No.                        Time  Delta time        Source  Source Port  \\\n",
       "0    1  2010-06-13 01:26:00,332989    0.000000  69.192.24.88         80.0   \n",
       "1    2  2010-06-13 01:26:00,333062    0.000073  192.168.56.1      55216.0   \n",
       "2    3  2010-06-13 01:26:00,333062    0.000000  69.192.24.88         80.0   \n",
       "3    4  2010-06-13 01:26:00,333123    0.000061  192.168.56.1      55216.0   \n",
       "4    5  2010-06-13 01:26:00,337329    0.004206  192.168.56.1      55357.0   \n",
       "\n",
       "    Destination Protocol  Destination Port  Length  \\\n",
       "0  192.168.56.1      TCP           55216.0    2962   \n",
       "1  69.192.24.88      TCP              80.0      60   \n",
       "2  192.168.56.1     HTTP           55216.0    1294   \n",
       "3  69.192.24.88      TCP              80.0      60   \n",
       "4  69.192.24.88     HTTP              80.0     599   \n",
       "\n",
       "                                                Info  \n",
       "0  80  >  55216 [ACK] Seq=1 Ack=1 Win=122 Len=289...  \n",
       "1               55216  >  80 [RST] Seq=1 Win=0 Len=0  \n",
       "2  HTTP/1.1 500 Service unavailable (with message...  \n",
       "3               55216  >  80 [RST] Seq=1 Win=0 Len=0  \n",
       "4  GET /drupal7/?uIhD=PU3cMTarBFX&MUSc2Ei=1xcwRr4...  "
      ]
     },
     "execution_count": 15,
     "metadata": {},
     "output_type": "execute_result"
    }
   ],
   "source": [
    "df4 = pd.read_csv('25_attack_delta_time.csv')\n",
    "df4.head()"
   ]
  },
  {
   "cell_type": "code",
   "execution_count": 16,
   "metadata": {
    "scrolled": true
   },
   "outputs": [
    {
     "data": {
      "text/html": [
       "<div>\n",
       "<style scoped>\n",
       "    .dataframe tbody tr th:only-of-type {\n",
       "        vertical-align: middle;\n",
       "    }\n",
       "\n",
       "    .dataframe tbody tr th {\n",
       "        vertical-align: top;\n",
       "    }\n",
       "\n",
       "    .dataframe thead th {\n",
       "        text-align: right;\n",
       "    }\n",
       "</style>\n",
       "<table border=\"1\" class=\"dataframe\">\n",
       "  <thead>\n",
       "    <tr style=\"text-align: right;\">\n",
       "      <th></th>\n",
       "      <th></th>\n",
       "      <th>No.</th>\n",
       "      <th>Delta time</th>\n",
       "      <th>Source Port</th>\n",
       "      <th>Destination Port</th>\n",
       "    </tr>\n",
       "    <tr>\n",
       "      <th>Source</th>\n",
       "      <th>Destination</th>\n",
       "      <th></th>\n",
       "      <th></th>\n",
       "      <th></th>\n",
       "      <th></th>\n",
       "    </tr>\n",
       "  </thead>\n",
       "  <tbody>\n",
       "    <tr>\n",
       "      <th>192.168.56.1</th>\n",
       "      <th>69.192.24.88</th>\n",
       "      <td>6066</td>\n",
       "      <td>6066</td>\n",
       "      <td>6066</td>\n",
       "      <td>6066</td>\n",
       "    </tr>\n",
       "    <tr>\n",
       "      <th>69.192.24.88</th>\n",
       "      <th>192.168.56.1</th>\n",
       "      <td>2378</td>\n",
       "      <td>2378</td>\n",
       "      <td>2378</td>\n",
       "      <td>2378</td>\n",
       "    </tr>\n",
       "    <tr>\n",
       "      <th>203.73.24.75</th>\n",
       "      <th>192.168.2.109</th>\n",
       "      <td>1874</td>\n",
       "      <td>1874</td>\n",
       "      <td>1874</td>\n",
       "      <td>1874</td>\n",
       "    </tr>\n",
       "    <tr>\n",
       "      <th>192.168.2.109</th>\n",
       "      <th>203.73.24.75</th>\n",
       "      <td>1695</td>\n",
       "      <td>1695</td>\n",
       "      <td>1695</td>\n",
       "      <td>1695</td>\n",
       "    </tr>\n",
       "    <tr>\n",
       "      <th>85.232.57.10</th>\n",
       "      <th>192.168.1.104</th>\n",
       "      <td>254</td>\n",
       "      <td>254</td>\n",
       "      <td>254</td>\n",
       "      <td>254</td>\n",
       "    </tr>\n",
       "  </tbody>\n",
       "</table>\n",
       "</div>"
      ],
      "text/plain": [
       "                              No.  Delta time  Source Port  Destination Port\n",
       "Source        Destination                                                   \n",
       "192.168.56.1  69.192.24.88   6066        6066         6066              6066\n",
       "69.192.24.88  192.168.56.1   2378        2378         2378              2378\n",
       "203.73.24.75  192.168.2.109  1874        1874         1874              1874\n",
       "192.168.2.109 203.73.24.75   1695        1695         1695              1695\n",
       "85.232.57.10  192.168.1.104   254         254          254               254"
      ]
     },
     "execution_count": 16,
     "metadata": {},
     "output_type": "execute_result"
    }
   ],
   "source": [
    "df3.drop(['Time', 'Protocol', 'Length', 'Info'], axis=1)\\\n",
    "            .groupby([\"Source\", 'Destination']) \\\n",
    "            .count() \\\n",
    "            .sort_values(['No.'], ascending=False)\\\n",
    "            .head()"
   ]
  },
  {
   "cell_type": "code",
   "execution_count": 17,
   "metadata": {
    "scrolled": false
   },
   "outputs": [
    {
     "data": {
      "text/html": [
       "<div>\n",
       "<style scoped>\n",
       "    .dataframe tbody tr th:only-of-type {\n",
       "        vertical-align: middle;\n",
       "    }\n",
       "\n",
       "    .dataframe tbody tr th {\n",
       "        vertical-align: top;\n",
       "    }\n",
       "\n",
       "    .dataframe thead th {\n",
       "        text-align: right;\n",
       "    }\n",
       "</style>\n",
       "<table border=\"1\" class=\"dataframe\">\n",
       "  <thead>\n",
       "    <tr style=\"text-align: right;\">\n",
       "      <th></th>\n",
       "      <th></th>\n",
       "      <th>No.</th>\n",
       "      <th>Delta time</th>\n",
       "      <th>Source Port</th>\n",
       "      <th>Destination Port</th>\n",
       "    </tr>\n",
       "    <tr>\n",
       "      <th>Source</th>\n",
       "      <th>Destination</th>\n",
       "      <th></th>\n",
       "      <th></th>\n",
       "      <th></th>\n",
       "      <th></th>\n",
       "    </tr>\n",
       "  </thead>\n",
       "  <tbody>\n",
       "    <tr>\n",
       "      <th>192.168.56.1</th>\n",
       "      <th>75.127.97.72</th>\n",
       "      <td>6066</td>\n",
       "      <td>6066</td>\n",
       "      <td>6066</td>\n",
       "      <td>6066</td>\n",
       "    </tr>\n",
       "    <tr>\n",
       "      <th>75.127.97.72</th>\n",
       "      <th>192.168.56.1</th>\n",
       "      <td>2378</td>\n",
       "      <td>2378</td>\n",
       "      <td>2378</td>\n",
       "      <td>2378</td>\n",
       "    </tr>\n",
       "    <tr>\n",
       "      <th>192.168.5.122</th>\n",
       "      <th>80.66.211.179</th>\n",
       "      <td>997</td>\n",
       "      <td>997</td>\n",
       "      <td>997</td>\n",
       "      <td>997</td>\n",
       "    </tr>\n",
       "    <tr>\n",
       "      <th>80.66.211.179</th>\n",
       "      <th>192.168.5.122</th>\n",
       "      <td>803</td>\n",
       "      <td>803</td>\n",
       "      <td>803</td>\n",
       "      <td>803</td>\n",
       "    </tr>\n",
       "    <tr>\n",
       "      <th>192.168.56.1</th>\n",
       "      <th>69.192.24.88</th>\n",
       "      <td>471</td>\n",
       "      <td>471</td>\n",
       "      <td>471</td>\n",
       "      <td>471</td>\n",
       "    </tr>\n",
       "  </tbody>\n",
       "</table>\n",
       "</div>"
      ],
      "text/plain": [
       "                              No.  Delta time  Source Port  Destination Port\n",
       "Source        Destination                                                   \n",
       "192.168.56.1  75.127.97.72   6066        6066         6066              6066\n",
       "75.127.97.72  192.168.56.1   2378        2378         2378              2378\n",
       "192.168.5.122 80.66.211.179   997         997          997               997\n",
       "80.66.211.179 192.168.5.122   803         803          803               803\n",
       "192.168.56.1  69.192.24.88    471         471          471               471"
      ]
     },
     "execution_count": 17,
     "metadata": {},
     "output_type": "execute_result"
    }
   ],
   "source": [
    "df4.drop(['Time', 'Protocol', 'Length', 'Info'], axis=1)\\\n",
    "            .groupby([\"Source\", 'Destination']) \\\n",
    "            .count() \\\n",
    "            .sort_values(['No.'], ascending=False)\\\n",
    "            .head()"
   ]
  },
  {
   "cell_type": "code",
   "execution_count": 18,
   "metadata": {},
   "outputs": [],
   "source": [
    "df2_concat = pd.concat([df3, df4])\n",
    "filter_ip2 = ['69.192.24.88','75.127.97.72' ]\n",
    "#d_concat=df_concat[(df_concat.Destination=='69.84.133.138') or (df_concat.Destination=='74.55.1.4')]\n",
    "#\n",
    "d2_concat =df2_concat[df2_concat.Destination.isin(filter_ip2)]"
   ]
  },
  {
   "cell_type": "code",
   "execution_count": 19,
   "metadata": {},
   "outputs": [],
   "source": [
    "#d2=df2[(df2.Destination=='74.55.1.4')] \n",
    "#convert Info into string\n",
    "#filter packets with TCP SYN\n",
    "d2_concat['Info'] = d2_concat['Info'].astype('str')\n",
    "d2_concat=d2_concat[d2_concat['Info'].str.contains('SYN')]"
   ]
  },
  {
   "cell_type": "code",
   "execution_count": 20,
   "metadata": {},
   "outputs": [],
   "source": [
    "X_test=df2_concat\n",
    "X_test['Protocol'] = X_test['Protocol'].astype('category')\n",
    "X_test['Destination'] = X_test['Destination'].astype('category')\n",
    "X_test['Source'] = X_test['Source'].astype('category')\n",
    "X_test['Info'] = X_test['Info'].astype('category')  # ToDo split info in relevant columns\n",
    "X_test['Source Port'] = X_test['Source Port'].astype('category')\n",
    "X_test['Destination Port'] = X_test['Destination Port'].astype('category')\n",
    "X_test = X_test.drop(['Time', 'Delta time'], axis=1)\n",
    "X_test.head()\n",
    "catColumns = X_test.select_dtypes(['category']).columns\n",
    "X_test[catColumns] = X_test[catColumns].apply(lambda x: x.cat.codes)\n",
    "pred = clf.predict(X_test)"
   ]
  },
  {
   "cell_type": "code",
   "execution_count": 21,
   "metadata": {},
   "outputs": [],
   "source": [
    "# for i in pred:\n",
    "#     if i!=0:\n",
    "#         print(i)"
   ]
  },
  {
   "cell_type": "code",
   "execution_count": 22,
   "metadata": {
    "scrolled": false
   },
   "outputs": [
    {
     "name": "stdout",
     "output_type": "stream",
     "text": [
      "The draw time for this plot will be slow for all clients.\n"
     ]
    },
    {
     "name": "stderr",
     "output_type": "stream",
     "text": [
      "/home/deeplearning/anaconda3/lib/python3.7/site-packages/plotly/api/v1/clientresp.py:40: UserWarning:\n",
      "\n",
      "Estimated Draw Time Too Long\n",
      "\n",
      "/home/deeplearning/anaconda3/lib/python3.7/site-packages/IPython/core/display.py:689: UserWarning:\n",
      "\n",
      "Consider using IPython.display.IFrame instead\n",
      "\n"
     ]
    },
    {
     "data": {
      "text/html": [
       "<iframe id=\"igraph\" scrolling=\"no\" style=\"border:none;\" seamless=\"seamless\" src=\"https://plot.ly/~ninjamouse/148.embed\" height=\"525px\" width=\"100%\"></iframe>"
      ],
      "text/plain": [
       "<plotly.tools.PlotlyDisplay object>"
      ]
     },
     "execution_count": 22,
     "metadata": {},
     "output_type": "execute_result"
    }
   ],
   "source": [
    "trace3=go.Scatter(x=df2_concat['Time'],y=df2_concat['Length'],mode='markers', name='Original file')\n",
    "#l=df2.query('(Length>10000)')\n",
    "trace4=go.Scatter(x=d2_concat['Time'],y=d2_concat['Length']*10,mode='markers', name='Filtered by IP')\n",
    "trace5=go.Scatter(x=df2_concat['Time'],y=pred*5000, mode='markers', name='Prediction')\n",
    "data2=[trace3, trace4, trace5]\n",
    "py.iplot(data2, filename='trace 2')"
   ]
  },
  {
   "cell_type": "code",
   "execution_count": 23,
   "metadata": {},
   "outputs": [],
   "source": [
    "## TODO\n",
    "## Compute 'd' the same way you computed it in the first case\n",
    "## Plot d + pred\n",
    "## Compare overalp between d and pred"
   ]
  },
  {
   "cell_type": "code",
   "execution_count": 24,
   "metadata": {},
   "outputs": [],
   "source": [
    "#X"
   ]
  },
  {
   "cell_type": "code",
   "execution_count": 25,
   "metadata": {},
   "outputs": [
    {
     "data": {
      "text/plain": [
       "RandomForestClassifier(bootstrap=True, class_weight=None, criterion='gini',\n",
       "            max_depth=2, max_features='auto', max_leaf_nodes=None,\n",
       "            min_impurity_decrease=0.0, min_impurity_split=None,\n",
       "            min_samples_leaf=1, min_samples_split=2,\n",
       "            min_weight_fraction_leaf=0.0, n_estimators=100, n_jobs=None,\n",
       "            oob_score=False, random_state=0, verbose=0, warm_start=False)"
      ]
     },
     "execution_count": 25,
     "metadata": {},
     "output_type": "execute_result"
    }
   ],
   "source": [
    "from sklearn.ensemble import RandomForestClassifier\n",
    "clf = RandomForestClassifier(n_estimators=100, max_depth=2, random_state=0)\n",
    "clf.fit(X, Y)"
   ]
  },
  {
   "cell_type": "code",
   "execution_count": 26,
   "metadata": {},
   "outputs": [
    {
     "data": {
      "text/plain": [
       "array([0.14574966, 0.03352516, 0.3366047 , 0.1156106 , 0.00389039,\n",
       "       0.05256261, 0.10361822, 0.20843866])"
      ]
     },
     "execution_count": 26,
     "metadata": {},
     "output_type": "execute_result"
    }
   ],
   "source": [
    "clf.feature_importances_"
   ]
  },
  {
   "cell_type": "code",
   "execution_count": 27,
   "metadata": {},
   "outputs": [],
   "source": [
    "pred2=clf.predict(X_test)"
   ]
  },
  {
   "cell_type": "code",
   "execution_count": 28,
   "metadata": {},
   "outputs": [],
   "source": [
    "# for i in pred2:\n",
    "#     if i!=0:\n",
    "#         print(i)"
   ]
  },
  {
   "cell_type": "code",
   "execution_count": 29,
   "metadata": {
    "scrolled": true
   },
   "outputs": [
    {
     "name": "stdout",
     "output_type": "stream",
     "text": [
      "The draw time for this plot will be slow for all clients.\n"
     ]
    },
    {
     "name": "stderr",
     "output_type": "stream",
     "text": [
      "/home/deeplearning/anaconda3/lib/python3.7/site-packages/plotly/api/v1/clientresp.py:40: UserWarning:\n",
      "\n",
      "Estimated Draw Time Too Long\n",
      "\n",
      "/home/deeplearning/anaconda3/lib/python3.7/site-packages/IPython/core/display.py:689: UserWarning:\n",
      "\n",
      "Consider using IPython.display.IFrame instead\n",
      "\n"
     ]
    },
    {
     "data": {
      "text/html": [
       "<iframe id=\"igraph\" scrolling=\"no\" style=\"border:none;\" seamless=\"seamless\" src=\"https://plot.ly/~ninjamouse/150.embed\" height=\"525px\" width=\"100%\"></iframe>"
      ],
      "text/plain": [
       "<plotly.tools.PlotlyDisplay object>"
      ]
     },
     "execution_count": 29,
     "metadata": {},
     "output_type": "execute_result"
    }
   ],
   "source": [
    "trace3=go.Scatter(x=df2_concat['Time'],y=df2_concat['Length'],mode='markers', name='Original file')\n",
    "#l=df2.query('(Length>10000)')\n",
    "trace4=go.Scatter(x=d2_concat['Time'],y=d2_concat['Length']*10,mode='markers', name='Filtered by IP and SYN')\n",
    "trace5=go.Scatter(x=df2_concat['Time'],y=pred*5000, mode='markers', name='LinearModel')\n",
    "trace6=go.Scatter(x=df2_concat['Time'],y=pred2*6000, mode='markers', name='Random Forest')\n",
    "data2=[trace3, trace4, trace5, trace6] \n",
    "py.iplot(data2, filename='trace 3')"
   ]
  },
  {
   "cell_type": "code",
   "execution_count": 30,
   "metadata": {
    "scrolled": false
   },
   "outputs": [
    {
     "data": {
      "text/html": [
       "<div>\n",
       "<style scoped>\n",
       "    .dataframe tbody tr th:only-of-type {\n",
       "        vertical-align: middle;\n",
       "    }\n",
       "\n",
       "    .dataframe tbody tr th {\n",
       "        vertical-align: top;\n",
       "    }\n",
       "\n",
       "    .dataframe thead th {\n",
       "        text-align: right;\n",
       "    }\n",
       "</style>\n",
       "<table border=\"1\" class=\"dataframe\">\n",
       "  <thead>\n",
       "    <tr style=\"text-align: right;\">\n",
       "      <th></th>\n",
       "      <th>No.</th>\n",
       "      <th>Time</th>\n",
       "      <th>Delta time</th>\n",
       "      <th>Source</th>\n",
       "      <th>Source Port</th>\n",
       "      <th>Destination</th>\n",
       "      <th>Protocol</th>\n",
       "      <th>Destination Port</th>\n",
       "      <th>Length</th>\n",
       "      <th>Info</th>\n",
       "    </tr>\n",
       "  </thead>\n",
       "  <tbody>\n",
       "    <tr>\n",
       "      <th>0</th>\n",
       "      <td>1</td>\n",
       "      <td>2010-06-12 19:30:00,865985</td>\n",
       "      <td>0.000000</td>\n",
       "      <td>192.168.2.113</td>\n",
       "      <td>2950.0</td>\n",
       "      <td>216.8.179.23</td>\n",
       "      <td>TCP</td>\n",
       "      <td>80.0</td>\n",
       "      <td>60</td>\n",
       "      <td>2950  &gt;  80 [FIN, ACK] Seq=1 Ack=1 Win=64860 L...</td>\n",
       "    </tr>\n",
       "    <tr>\n",
       "      <th>1</th>\n",
       "      <td>2</td>\n",
       "      <td>2010-06-12 19:30:04,632293</td>\n",
       "      <td>3.766308</td>\n",
       "      <td>192.168.2.113</td>\n",
       "      <td>137.0</td>\n",
       "      <td>192.168.2.255</td>\n",
       "      <td>NBNS</td>\n",
       "      <td>137.0</td>\n",
       "      <td>92</td>\n",
       "      <td>Name query NB WORKGROUP&lt;1b&gt;</td>\n",
       "    </tr>\n",
       "    <tr>\n",
       "      <th>2</th>\n",
       "      <td>3</td>\n",
       "      <td>2010-06-12 19:30:05,381433</td>\n",
       "      <td>0.749140</td>\n",
       "      <td>192.168.2.113</td>\n",
       "      <td>137.0</td>\n",
       "      <td>192.168.2.255</td>\n",
       "      <td>NBNS</td>\n",
       "      <td>137.0</td>\n",
       "      <td>92</td>\n",
       "      <td>Name query NB WORKGROUP&lt;1b&gt;</td>\n",
       "    </tr>\n",
       "    <tr>\n",
       "      <th>3</th>\n",
       "      <td>4</td>\n",
       "      <td>2010-06-12 19:30:06,131413</td>\n",
       "      <td>0.749980</td>\n",
       "      <td>192.168.2.113</td>\n",
       "      <td>137.0</td>\n",
       "      <td>192.168.2.255</td>\n",
       "      <td>NBNS</td>\n",
       "      <td>137.0</td>\n",
       "      <td>92</td>\n",
       "      <td>Name query NB WORKGROUP&lt;1b&gt;</td>\n",
       "    </tr>\n",
       "    <tr>\n",
       "      <th>4</th>\n",
       "      <td>5</td>\n",
       "      <td>2010-06-12 19:30:10,254751</td>\n",
       "      <td>4.123338</td>\n",
       "      <td>192.168.5.122</td>\n",
       "      <td>143.0</td>\n",
       "      <td>192.168.3.116</td>\n",
       "      <td>IMAP</td>\n",
       "      <td>2756.0</td>\n",
       "      <td>71</td>\n",
       "      <td>Response: * OK Still here</td>\n",
       "    </tr>\n",
       "  </tbody>\n",
       "</table>\n",
       "</div>"
      ],
      "text/plain": [
       "   No.                        Time  Delta time         Source  Source Port  \\\n",
       "0    1  2010-06-12 19:30:00,865985    0.000000  192.168.2.113       2950.0   \n",
       "1    2  2010-06-12 19:30:04,632293    3.766308  192.168.2.113        137.0   \n",
       "2    3  2010-06-12 19:30:05,381433    0.749140  192.168.2.113        137.0   \n",
       "3    4  2010-06-12 19:30:06,131413    0.749980  192.168.2.113        137.0   \n",
       "4    5  2010-06-12 19:30:10,254751    4.123338  192.168.5.122        143.0   \n",
       "\n",
       "     Destination Protocol  Destination Port  Length  \\\n",
       "0   216.8.179.23      TCP              80.0      60   \n",
       "1  192.168.2.255     NBNS             137.0      92   \n",
       "2  192.168.2.255     NBNS             137.0      92   \n",
       "3  192.168.2.255     NBNS             137.0      92   \n",
       "4  192.168.3.116     IMAP            2756.0      71   \n",
       "\n",
       "                                                Info  \n",
       "0  2950  >  80 [FIN, ACK] Seq=1 Ack=1 Win=64860 L...  \n",
       "1                        Name query NB WORKGROUP<1b>  \n",
       "2                        Name query NB WORKGROUP<1b>  \n",
       "3                        Name query NB WORKGROUP<1b>  \n",
       "4                          Response: * OK Still here  "
      ]
     },
     "execution_count": 30,
     "metadata": {},
     "output_type": "execute_result"
    }
   ],
   "source": [
    "test_df=df2.head()\n",
    "test_df"
   ]
  },
  {
   "cell_type": "code",
   "execution_count": 31,
   "metadata": {},
   "outputs": [],
   "source": [
    "#test_df['Time']-test_df['Time'].shift()"
   ]
  }
 ],
 "metadata": {
  "kernelspec": {
   "display_name": "Python 3",
   "language": "python",
   "name": "python3"
  },
  "language_info": {
   "codemirror_mode": {
    "name": "ipython",
    "version": 3
   },
   "file_extension": ".py",
   "mimetype": "text/x-python",
   "name": "python",
   "nbconvert_exporter": "python",
   "pygments_lexer": "ipython3",
   "version": "3.7.3"
  }
 },
 "nbformat": 4,
 "nbformat_minor": 2
}
